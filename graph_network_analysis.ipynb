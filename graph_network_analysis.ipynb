{
 "cells": [
  {
   "metadata": {},
   "cell_type": "markdown",
   "source": [
    "# Tripartite relational data analysis\n",
    "Try to find the characteristics of relational datasets that consist of the tripartite network from two published papers."
   ],
   "id": "cdc3174c9421db01"
  },
  {
   "cell_type": "code",
   "id": "initial_id",
   "metadata": {
    "collapsed": true,
    "ExecuteTime": {
     "end_time": "2025-01-08T23:00:32.435849Z",
     "start_time": "2025-01-08T23:00:32.429709Z"
    }
   },
   "source": [
    "import pandas as pd\n",
    "import networkx as nx\n",
    "import matplotlib.pyplot as plt\n",
    "import numpy as np"
   ],
   "outputs": [],
   "execution_count": 206
  },
  {
   "metadata": {
    "ExecuteTime": {
     "end_time": "2025-01-08T08:46:57.710835Z",
     "start_time": "2025-01-08T08:46:55.721909Z"
    }
   },
   "cell_type": "code",
   "source": [
    "# Load the data\n",
    "dme_df = pd.read_excel('MAHN/association_DME.xlsx')\n",
    "dmi_df = pd.read_excel('MAHN/association_DMI.xlsx')\n",
    "mime_df = pd.read_excel('MAHN/association_MIME.xlsx')"
   ],
   "id": "dad6424128658ad7",
   "outputs": [],
   "execution_count": 2
  },
  {
   "metadata": {
    "ExecuteTime": {
     "end_time": "2025-01-08T08:46:57.858361Z",
     "start_time": "2025-01-08T08:46:57.851364Z"
    }
   },
   "cell_type": "code",
   "source": [
    "print(f\"Unique edges in DME: {len(dme_df[['Disease', 'Metabolite']].drop_duplicates())}\")\n",
    "print(f\"Unique edges in DMI: {len(dmi_df[['Disease', 'Microbe']].drop_duplicates())}\")\n",
    "print(f\"Unique edges in MIME: {len(mime_df[['Microbe', 'Metabolite']].drop_duplicates())}\")"
   ],
   "id": "48ef940ef96fbacd",
   "outputs": [
    {
     "name": "stdout",
     "output_type": "stream",
     "text": [
      "Unique edges in DME: 10604\n",
      "Unique edges in DMI: 13552\n",
      "Unique edges in MIME: 74228\n"
     ]
    }
   ],
   "execution_count": 3
  },
  {
   "metadata": {
    "ExecuteTime": {
     "end_time": "2025-01-08T08:46:57.899353Z",
     "start_time": "2025-01-08T08:46:57.891805Z"
    }
   },
   "cell_type": "code",
   "source": [
    "common_microbes = set(dmi_df[\"Microbe\"]) | set(mime_df[\"Microbe\"])\n",
    "\n",
    "print(f\"Common microbes in D-MI: {(len(common_microbes)/len(dmi_df['Microbe'].unique()))*100}%\")\n",
    "print(f\"Common microbes in MI-ME: {(len(common_microbes)/len(mime_df['Microbe'].unique()))*100}%\")"
   ],
   "id": "bdebfd590eeee7c7",
   "outputs": [
    {
     "name": "stdout",
     "output_type": "stream",
     "text": [
      "Common microbes in D-MI: 100.0%\n",
      "Common microbes in MI-ME: 100.0%\n"
     ]
    }
   ],
   "execution_count": 4
  },
  {
   "metadata": {
    "ExecuteTime": {
     "end_time": "2025-01-08T08:46:57.927551Z",
     "start_time": "2025-01-08T08:46:57.920994Z"
    }
   },
   "cell_type": "code",
   "source": [
    "common_metabolites = set(dme_df[\"Metabolite\"]) | set(mime_df[\"Metabolite\"])\n",
    "\n",
    "print(f\"Common metabolites in D-ME: {(len(common_metabolites)/len(dme_df['Metabolite'].unique()))*100}%\")\n",
    "print(f\"Common metabolites in MI-ME: {(len(common_metabolites)/len(mime_df['Metabolite'].unique()))*100}%\")"
   ],
   "id": "9c8b0c3b3d68b153",
   "outputs": [
    {
     "name": "stdout",
     "output_type": "stream",
     "text": [
      "Common metabolites in D-ME: 100.0%\n",
      "Common metabolites in MI-ME: 100.0%\n"
     ]
    }
   ],
   "execution_count": 5
  },
  {
   "metadata": {
    "ExecuteTime": {
     "end_time": "2025-01-08T08:46:57.966190Z",
     "start_time": "2025-01-08T08:46:57.961865Z"
    }
   },
   "cell_type": "code",
   "source": [
    "common_diseases = set(dme_df[\"Disease\"]) | set(dmi_df[\"Disease\"])\n",
    "\n",
    "print(f\"Common diseases in D-ME: {(len(common_diseases) / len(dme_df['Disease'].unique())) * 100}%\")\n",
    "print(f\"Common diseases in D-MI: {(len(common_diseases) / len(dmi_df['Disease'].unique())) * 100}%\")"
   ],
   "id": "13a729e1a3180371",
   "outputs": [
    {
     "name": "stdout",
     "output_type": "stream",
     "text": [
      "Common diseases in D-ME: 100.0%\n",
      "Common diseases in D-MI: 100.0%\n"
     ]
    }
   ],
   "execution_count": 6
  },
  {
   "metadata": {
    "ExecuteTime": {
     "end_time": "2025-01-08T08:46:59.179849Z",
     "start_time": "2025-01-08T08:46:58.011348Z"
    }
   },
   "cell_type": "code",
   "source": [
    "G = nx.Graph()\n",
    "\n",
    "microbe_offset = len(dme_df[\"Disease\"].unique())\n",
    "metabolite_offset = len(dme_df[\"Disease\"].unique()) + len(dmi_df[\"Microbe\"].unique())\n",
    "\n",
    "# add edges from the DME file (10604)\n",
    "for _, row in dme_df.iterrows():\n",
    "    G.add_edge(int(row['Disease']), int(row['Metabolite']) + metabolite_offset, type='DME')\n",
    "\n",
    "# add edges from the DMI file (13552)\n",
    "for _, row in dmi_df.iterrows():\n",
    "    G.add_edge(int(row['Disease']), int(row['Microbe']) + microbe_offset, type='DMI')\n",
    "\n",
    "# add edges from the MIME file (74228)\n",
    "for _, row in mime_df.iterrows():\n",
    "    G.add_edge(int(row['Microbe']) + microbe_offset, int(row['Metabolite']) + metabolite_offset, type='MIME')"
   ],
   "id": "8cfaf60d9a1bb36",
   "outputs": [],
   "execution_count": 7
  },
  {
   "metadata": {
    "ExecuteTime": {
     "end_time": "2025-01-08T08:46:59.217569Z",
     "start_time": "2025-01-08T08:46:59.186946Z"
    }
   },
   "cell_type": "code",
   "source": [
    "# tag node types\n",
    "for node in G.nodes():\n",
    "    if node in dme_df['Disease'].values or node in dmi_df['Disease'].values:\n",
    "        G.nodes[node]['type'] = 'disease'\n",
    "    elif node in dmi_df['Microbe'].values or node in mime_df['Microbe'].values:\n",
    "        G.nodes[node]['type'] = 'microbe'\n",
    "    elif node in dme_df['Metabolite'].values or node in mime_df['Metabolite'].values:\n",
    "        G.nodes[node]['type'] = 'metabolite'"
   ],
   "id": "1986c0c2224ea949",
   "outputs": [],
   "execution_count": 8
  },
  {
   "metadata": {
    "ExecuteTime": {
     "end_time": "2025-01-08T08:46:59.227277Z",
     "start_time": "2025-01-08T08:46:59.224921Z"
    }
   },
   "cell_type": "code",
   "source": [
    "print(f\"Total nodes: {G.number_of_nodes()}\")\n",
    "print(f\"Total edges: {G.number_of_edges()}\")"
   ],
   "id": "abda6617c925aa86",
   "outputs": [
    {
     "name": "stdout",
     "output_type": "stream",
     "text": [
      "Total nodes: 593\n",
      "Total edges: 98384\n"
     ]
    }
   ],
   "execution_count": 9
  },
  {
   "metadata": {
    "ExecuteTime": {
     "end_time": "2025-01-08T08:46:59.244967Z",
     "start_time": "2025-01-08T08:46:59.242708Z"
    }
   },
   "cell_type": "code",
   "source": "degree_centrality = nx.degree_centrality(G)",
   "id": "80b3f484843a63b7",
   "outputs": [],
   "execution_count": 10
  },
  {
   "metadata": {
    "ExecuteTime": {
     "end_time": "2025-01-08T08:46:59.359323Z",
     "start_time": "2025-01-08T08:46:59.267887Z"
    }
   },
   "cell_type": "code",
   "source": [
    "density = nx.density(G)\n",
    "components = nx.number_connected_components(G)\n",
    "degree_correlation = nx.degree_assortativity_coefficient(G)\n",
    "\n",
    "print(f\"Graph Density: {density*100:.2f}% of the possible connections between nodes\")\n",
    "print(f\"Number of distinct sub-networks within overall network: {components}\")\n",
    "print(f\"Degree Correlation where high-degree nodes are connected to peripheral nodes: {degree_correlation}\")"
   ],
   "id": "e8c517487b6a7ff8",
   "outputs": [
    {
     "name": "stdout",
     "output_type": "stream",
     "text": [
      "Graph Density: 56.05% of the possible connections between nodes\n",
      "Number of distinct sub-networks within overall network: 1\n",
      "Degree Correlation where high-degree nodes are connected to peripheral nodes: -0.2748068535275868\n"
     ]
    }
   ],
   "execution_count": 11
  },
  {
   "metadata": {
    "ExecuteTime": {
     "end_time": "2025-01-08T08:46:59.374344Z",
     "start_time": "2025-01-08T08:46:59.371360Z"
    }
   },
   "cell_type": "code",
   "source": "neighbor_counts = {node: len(list(G.neighbors(node))) for node in G.nodes()}",
   "id": "53d965d706d03474",
   "outputs": [],
   "execution_count": 12
  },
  {
   "metadata": {
    "ExecuteTime": {
     "end_time": "2025-01-08T08:46:59.396416Z",
     "start_time": "2025-01-08T08:46:59.391479Z"
    }
   },
   "cell_type": "code",
   "source": [
    "counts = list(neighbor_counts.values())\n",
    "counts_array = np.array(counts)\n",
    "\n",
    "# Compute statistical summary\n",
    "summary = {\n",
    "    \"count\": len(counts_array),\n",
    "    \"mean\": np.mean(counts_array),\n",
    "    \"std\": np.std(counts_array),\n",
    "    \"min\": np.min(counts_array),\n",
    "    \"25%\": np.percentile(counts_array, 25),\n",
    "    \"50% (median)\": np.median(counts_array),\n",
    "    \"75%\": np.percentile(counts_array, 75),\n",
    "    \"max\": np.max(counts_array),\n",
    "}\n",
    "summary"
   ],
   "id": "f75582f1b835306e",
   "outputs": [
    {
     "data": {
      "text/plain": [
       "{'count': 593,\n",
       " 'mean': np.float64(331.8178752107926),\n",
       " 'std': np.float64(69.30963264905772),\n",
       " 'min': np.int64(285),\n",
       " '25%': np.float64(285.0),\n",
       " '50% (median)': np.float64(285.0),\n",
       " '75%': np.float64(352.0),\n",
       " 'max': np.int64(549)}"
      ]
     },
     "execution_count": 13,
     "metadata": {},
     "output_type": "execute_result"
    }
   ],
   "execution_count": 13
  },
  {
   "metadata": {
    "ExecuteTime": {
     "end_time": "2025-01-08T08:46:59.476577Z",
     "start_time": "2025-01-08T08:46:59.423035Z"
    }
   },
   "cell_type": "code",
   "source": [
    "# box plot of neighbor counts\n",
    "plt.boxplot(neighbor_counts.values(), vert=False)\n",
    "plt.xlabel(\"Number of Neighbors\")\n",
    "plt.title(\"Neighbor Count Distribution\")\n",
    "plt.show()"
   ],
   "id": "791393d94eb1ba1b",
   "outputs": [
    {
     "data": {
      "text/plain": [
       "<Figure size 640x480 with 1 Axes>"
      ],
      "image/png": "[encoded data removed]"
     },
     "metadata": {},
     "output_type": "display_data"
    }
   ],
   "execution_count": 14
  },
  {
   "metadata": {
    "ExecuteTime": {
     "end_time": "2025-01-08T08:46:59.536592Z",
     "start_time": "2025-01-08T08:46:59.484590Z"
    }
   },
   "cell_type": "code",
   "source": [
    "# histogram of neighbor counts\n",
    "plt.hist(neighbor_counts.values(), bins=20, edgecolor=\"black\")\n",
    "plt.xlabel(\"Number of Neighbors\")\n",
    "plt.ylabel(\"Frequency\")\n",
    "plt.title(\"Distribution of Neighbor Counts\")\n",
    "plt.show()"
   ],
   "id": "b221860d5e05d9ef",
   "outputs": [
    {
     "data": {
      "text/plain": [
       "<Figure size 640x480 with 1 Axes>"
      ],
      "image/png": "[encoded data removed]"
     },
     "metadata": {},
     "output_type": "display_data"
    }
   ],
   "execution_count": 15
  },
  {
   "metadata": {
    "ExecuteTime": {
     "end_time": "2025-01-08T08:46:59.753030Z",
     "start_time": "2025-01-08T08:46:59.550375Z"
    }
   },
   "cell_type": "code",
   "source": [
    "microbe_offset = len(dme_df[\"Disease\"].unique())\n",
    "metabolite_offset = len(dme_df[\"Disease\"].unique()) + len(dmi_df[\"Microbe\"].unique())\n",
    "\n",
    "nodes = []\n",
    "for disease in set(sorted(dme_df[\"Disease\"])) | set(sorted(dmi_df[\"Disease\"])):\n",
    "    nodes.append([int(disease), \"disease\", \"red\"])\n",
    "for microbe in set(sorted(dmi_df[\"Microbe\"])) | set(sorted(mime_df[\"Microbe\"])):\n",
    "    nodes.append([int(microbe) + microbe_offset, \"microbe\", \"blue\"])\n",
    "for metabolite in set(sorted(dme_df[\"Metabolite\"])) | set(sorted(mime_df[\"Metabolite\"])):\n",
    "    nodes.append([int(metabolite) + metabolite_offset, \"metabolite\", \"green\"])\n",
    "\n",
    "nodes_df = pd.DataFrame(nodes, columns=[\"id\", \"type\", \"node_color\"])\n",
    "nodes_df.to_csv(\"MAHN_nodes_with_colors.csv\", index=False)\n",
    "\n",
    "edges = []\n",
    "edges.extend(\n",
    "    [[int(disease), int(metabolite) + metabolite_offset, value]\n",
    "     for disease, metabolite, value in dme_df[[\"Disease\", \"Metabolite\", \"Value\"]].values]\n",
    ")\n",
    "edges.extend(\n",
    "    [[int(disease), int(microbe) + microbe_offset, value]\n",
    "     for disease, microbe, value in dmi_df[[\"Disease\", \"Microbe\", \"Value\"]].values]\n",
    ")\n",
    "edges.extend(\n",
    "    [[int(microbe) +microbe_offset, int(metabolite) + metabolite_offset, value]\n",
    "     for microbe, metabolite, value in mime_df[[\"Microbe\", \"Metabolite\", \"Value\"]].values]\n",
    ")\n",
    "edges_df = pd.DataFrame(edges, columns=[\"Source\", \"Target\", \"Value\"])\n",
    "edges_df.to_csv(\"MAHN_edges_with_labels.csv\", index=False)"
   ],
   "id": "2856420889271384",
   "outputs": [],
   "execution_count": 16
  },
  {
   "metadata": {},
   "cell_type": "markdown",
   "source": [
    "### Summary of MAHN datasets\n",
    "- The MAHN datasets consist of three relational datasets: Disease-Metabolite (DME), Disease-Microbe (DMI), and Microbe-Metabolite (MIME).\n",
    "- The DME dataset has 10604 unique edges, the DMI dataset has 13552 unique edges, and the MIME dataset has 74228 unique edges. Total edges are 98384.\n",
    "- Total node count is 593 with 44 unique diseases, 308 unique microbes, and 241 unique metabolites.\n",
    "- Common microbes are 100% in both files, common diseases are 100% in both files, and common metabolites are 100% in both files.\n",
    "- The relational datasets from MAHN has 1 connected large component.\n",
    "- Average neighbor count is ~331, median count is 285."
   ],
   "id": "4e0096137adeb2ff"
  },
  {
   "metadata": {},
   "cell_type": "markdown",
   "source": "***",
   "id": "bb31c027898ebf67"
  },
  {
   "metadata": {
    "ExecuteTime": {
     "end_time": "2025-01-08T21:49:30.084830Z",
     "start_time": "2025-01-08T21:49:30.004956Z"
    }
   },
   "cell_type": "code",
   "source": [
    "u_a = pd.read_csv(\"MAGNN_user_artist/user_artist.dat\", sep=\"\\t\", encoding=\"utf-8\", header=None, names=[\"user\", \"artist\", \"weight\"])\n",
    "u_u = pd.read_csv(\"MAGNN_user_artist/user_user(original).dat\", sep=\"\\t\", encoding=\"utf-8\", header=None, names=[\"user1\", \"user2\"])\n",
    "a_t = pd.read_csv(\"MAGNN_user_artist/artist_tag.dat\", sep=\"\\t\", encoding=\"utf-8\", header=None, names=[\"artist\", \"tag\"])"
   ],
   "id": "7ea9e383b7291553",
   "outputs": [],
   "execution_count": 195
  },
  {
   "metadata": {
    "ExecuteTime": {
     "end_time": "2025-01-08T08:46:59.820632Z",
     "start_time": "2025-01-08T08:46:59.805988Z"
    }
   },
   "cell_type": "code",
   "source": [
    "print(f\"Unique edges in u_a: {len(u_a[['user', 'artist']].drop_duplicates())}\")\n",
    "print(f\"Unique edges in u_u: {len(u_u[['user1', 'user2']].drop_duplicates())}\")\n",
    "print(f\"Unique edges in a_t: {len(a_t[['artist', 'tag']].drop_duplicates())}\")"
   ],
   "id": "7e34e7eae8181396",
   "outputs": [
    {
     "name": "stdout",
     "output_type": "stream",
     "text": [
      "Unique edges in u_a: 92834\n",
      "Unique edges in u_u: 25434\n",
      "Unique edges in a_t: 108437\n"
     ]
    }
   ],
   "execution_count": 18
  },
  {
   "metadata": {
    "ExecuteTime": {
     "end_time": "2025-01-08T08:46:59.879772Z",
     "start_time": "2025-01-08T08:46:59.875580Z"
    }
   },
   "cell_type": "code",
   "source": [
    "user = len(u_a[\"user\"].unique())\n",
    "artist = len(u_a[\"artist\"].unique())\n",
    "print(f\"Number of users: {user}\")\n",
    "print(f\"Number of artists: {artist}\")"
   ],
   "id": "c9e23c7068705112",
   "outputs": [
    {
     "name": "stdout",
     "output_type": "stream",
     "text": [
      "Number of users: 1892\n",
      "Number of artists: 17632\n"
     ]
    }
   ],
   "execution_count": 19
  },
  {
   "metadata": {
    "ExecuteTime": {
     "end_time": "2025-01-08T08:46:59.920856Z",
     "start_time": "2025-01-08T08:46:59.917968Z"
    }
   },
   "cell_type": "code",
   "source": [
    "u1 = len(u_u[\"user1\"].unique())\n",
    "u2 = len(u_u[\"user2\"].unique())\n",
    "print(f\"Number of user1: {u1}\")\n",
    "print(f\"Number of user2: {u2}\")"
   ],
   "id": "c615cff150389f2f",
   "outputs": [
    {
     "name": "stdout",
     "output_type": "stream",
     "text": [
      "Number of user1: 1892\n",
      "Number of user2: 1892\n"
     ]
    }
   ],
   "execution_count": 20
  },
  {
   "metadata": {
    "ExecuteTime": {
     "end_time": "2025-01-08T08:46:59.949116Z",
     "start_time": "2025-01-08T08:46:59.944555Z"
    }
   },
   "cell_type": "code",
   "source": [
    "artist = len(a_t[\"artist\"].unique())\n",
    "tag = len(a_t[\"tag\"].unique())\n",
    "print(f\"Number of artists: {artist}\")\n",
    "print(f\"Number of tags: {tag}\")"
   ],
   "id": "32121703e30075c9",
   "outputs": [
    {
     "name": "stdout",
     "output_type": "stream",
     "text": [
      "Number of artists: 12133\n",
      "Number of tags: 9718\n"
     ]
    }
   ],
   "execution_count": 21
  },
  {
   "metadata": {
    "ExecuteTime": {
     "end_time": "2025-01-08T08:46:59.983522Z",
     "start_time": "2025-01-08T08:46:59.972651Z"
    }
   },
   "cell_type": "code",
   "source": [
    "common_users = set(u_a[\"user\"]) & set(u_u[\"user1\"]) & set(u_u[\"user2\"])\n",
    "\n",
    "print(f\"Common users in U-A: {(len(common_users)/len(u_a['user'].unique()))*100}%\")\n",
    "print(f\"Common users in U-U user1: {(len(common_users)/len(u_u['user1'].unique())*100)}%\")\n",
    "print(f\"Common users in U-U user2: {(len(common_users)/len(u_u['user2'].unique())*100)}%\")"
   ],
   "id": "580825073f879865",
   "outputs": [
    {
     "name": "stdout",
     "output_type": "stream",
     "text": [
      "Common users in U-A: 100.0%\n",
      "Common users in U-U user1: 100.0%\n",
      "Common users in U-U user2: 100.0%\n"
     ]
    }
   ],
   "execution_count": 22
  },
  {
   "metadata": {
    "ExecuteTime": {
     "end_time": "2025-01-08T08:47:00.039966Z",
     "start_time": "2025-01-08T08:47:00.021555Z"
    }
   },
   "cell_type": "code",
   "source": [
    "common_artists = set(u_a[\"artist\"]) & set(a_t[\"artist\"])\n",
    "\n",
    "print(f\"Common artists in U-A: {(len(common_artists)/len(u_a['artist'].unique()))*100:.2f}%\")\n",
    "print(f\"Common artists in A-T: {(len(common_artists)/len(a_t['artist'].unique())*100)}%\")"
   ],
   "id": "5369e7b3911ff2e3",
   "outputs": [
    {
     "name": "stdout",
     "output_type": "stream",
     "text": [
      "Common artists in U-A: 68.81%\n",
      "Common artists in A-T: 100.0%\n"
     ]
    }
   ],
   "execution_count": 23
  },
  {
   "metadata": {
    "ExecuteTime": {
     "end_time": "2025-01-08T08:47:03.653771Z",
     "start_time": "2025-01-08T08:47:00.058195Z"
    }
   },
   "cell_type": "code",
   "source": [
    "G = nx.Graph()\n",
    "artist_offset = len(u_a[\"user\"].unique())\n",
    "tag_offset = len(u_a[\"user\"].unique()) + len(u_a[\"artist\"].unique())\n",
    "\n",
    "for _, row in u_a.iterrows():\n",
    "    G.add_edge(int(row['user']), int(row['artist']) + artist_offset, type='user_artist')\n",
    "\n",
    "for _, row in u_u.iterrows():\n",
    "    G.add_edge(int(row['user1']), int(row['user2']), type='user_user')\n",
    "\n",
    "for _, row in a_t.iterrows():\n",
    "    G.add_edge(int(row['artist']) + artist_offset, int(row['tag']) + tag_offset, type='artist_tag')"
   ],
   "id": "7a76f0fcdc43353c",
   "outputs": [],
   "execution_count": 24
  },
  {
   "metadata": {
    "ExecuteTime": {
     "end_time": "2025-01-08T08:47:05.572322Z",
     "start_time": "2025-01-08T08:47:03.667771Z"
    }
   },
   "cell_type": "code",
   "source": [
    "for node in G.nodes():\n",
    "    if node in u_a['user'].values or node in u_u['user1'].values or node in u_u[\"user2\"].values:\n",
    "        G.nodes[node]['type'] = 'user'\n",
    "    elif node in u_a['artist'].values or node in a_t['artist'].values:\n",
    "        G.nodes[node]['type'] = 'artist'\n",
    "    elif node in a_t['tag'].values:\n",
    "        G.nodes[node]['type'] = 'tag'"
   ],
   "id": "b4787effae910a68",
   "outputs": [],
   "execution_count": 25
  },
  {
   "metadata": {
    "ExecuteTime": {
     "end_time": "2025-01-08T08:47:05.593665Z",
     "start_time": "2025-01-08T08:47:05.587076Z"
    }
   },
   "cell_type": "code",
   "source": [
    "print(f\"Total nodes: {G.number_of_nodes()}\")\n",
    "print(f\"Total edges: {G.number_of_edges()}\")"
   ],
   "id": "a55ac354d9e21373",
   "outputs": [
    {
     "name": "stdout",
     "output_type": "stream",
     "text": [
      "Total nodes: 29242\n",
      "Total edges: 213988\n"
     ]
    }
   ],
   "execution_count": 26
  },
  {
   "metadata": {
    "ExecuteTime": {
     "end_time": "2025-01-08T08:47:05.614010Z",
     "start_time": "2025-01-08T08:47:05.607195Z"
    }
   },
   "cell_type": "code",
   "source": "degree_centrality = nx.degree_centrality(G)",
   "id": "aff924e4551c0275",
   "outputs": [],
   "execution_count": 27
  },
  {
   "metadata": {
    "ExecuteTime": {
     "end_time": "2025-01-08T08:47:05.969025Z",
     "start_time": "2025-01-08T08:47:05.629462Z"
    }
   },
   "cell_type": "code",
   "source": [
    "density = nx.density(G)\n",
    "components = nx.number_connected_components(G)\n",
    "degree_correlation = nx.degree_assortativity_coefficient(G)\n",
    "\n",
    "print(f\"Graph Density: {density*100:.2f}% of the possible connections between nodes\")\n",
    "print(f\"Number of distinct sub-networks within overall network: {components}\")\n",
    "print(f\"Degree Correlation where high-degree nodes are connected to peripheral nodes: {degree_correlation}\")"
   ],
   "id": "500e012bcd72ee05",
   "outputs": [
    {
     "name": "stdout",
     "output_type": "stream",
     "text": [
      "Graph Density: 0.05% of the possible connections between nodes\n",
      "Number of distinct sub-networks within overall network: 1\n",
      "Degree Correlation where high-degree nodes are connected to peripheral nodes: -0.11872850770837678\n"
     ]
    }
   ],
   "execution_count": 28
  },
  {
   "metadata": {
    "ExecuteTime": {
     "end_time": "2025-01-08T08:47:05.998152Z",
     "start_time": "2025-01-08T08:47:05.985518Z"
    }
   },
   "cell_type": "code",
   "source": "neighbor_counts = {node: len(list(G.neighbors(node))) for node in G.nodes()}",
   "id": "a3153602e3a771a",
   "outputs": [],
   "execution_count": 29
  },
  {
   "metadata": {
    "ExecuteTime": {
     "end_time": "2025-01-08T08:47:06.034987Z",
     "start_time": "2025-01-08T08:47:06.030049Z"
    }
   },
   "cell_type": "code",
   "source": [
    "counts = list(neighbor_counts.values())\n",
    "counts_array = np.array(counts)\n",
    "\n",
    "# Compute statistical summary\n",
    "summary = {\n",
    "    \"count\": len(counts_array),\n",
    "    \"mean\": np.mean(counts_array),\n",
    "    \"std\": np.std(counts_array),\n",
    "    \"min\": np.min(counts_array),\n",
    "    \"25%\": np.percentile(counts_array, 25),\n",
    "    \"50% (median)\": np.median(counts_array),\n",
    "    \"75%\": np.percentile(counts_array, 75),\n",
    "    \"max\": np.max(counts_array),\n",
    "}\n",
    "summary"
   ],
   "id": "10ef3c381e145815",
   "outputs": [
    {
     "data": {
      "text/plain": [
       "{'count': 29242,\n",
       " 'mean': np.float64(14.635661035496888),\n",
       " 'std': np.float64(45.737698015849865),\n",
       " 'min': np.int64(1),\n",
       " '25%': np.float64(1.0),\n",
       " '50% (median)': np.float64(3.0),\n",
       " '75%': np.float64(11.0),\n",
       " 'max': np.int64(2248)}"
      ]
     },
     "execution_count": 30,
     "metadata": {},
     "output_type": "execute_result"
    }
   ],
   "execution_count": 30
  },
  {
   "metadata": {
    "ExecuteTime": {
     "end_time": "2025-01-08T08:47:06.089824Z",
     "start_time": "2025-01-08T08:47:06.038239Z"
    }
   },
   "cell_type": "code",
   "source": [
    "# box plot of neighbor counts\n",
    "plt.boxplot(neighbor_counts.values(), vert=False)\n",
    "plt.xlabel(\"Number of Neighbors\")\n",
    "plt.title(\"Neighbor Count Distribution\")\n",
    "plt.show()"
   ],
   "id": "6887afa59d21b3eb",
   "outputs": [
    {
     "data": {
      "text/plain": [
       "<Figure size 640x480 with 1 Axes>"
      ],
      "image/png": "[encoded data removed]"
     },
     "metadata": {},
     "output_type": "display_data"
    }
   ],
   "execution_count": 31
  },
  {
   "metadata": {
    "ExecuteTime": {
     "end_time": "2025-01-08T08:47:06.174517Z",
     "start_time": "2025-01-08T08:47:06.108742Z"
    }
   },
   "cell_type": "code",
   "source": [
    "# histogram of neighbor counts\n",
    "plt.hist(neighbor_counts.values(), bins=20, edgecolor=\"black\")\n",
    "plt.xlabel(\"Number of Neighbors\")\n",
    "plt.ylabel(\"Frequency\")\n",
    "plt.title(\"Distribution of Neighbor Counts\")\n",
    "plt.show()"
   ],
   "id": "535a7606405c86a4",
   "outputs": [
    {
     "data": {
      "text/plain": [
       "<Figure size 640x480 with 1 Axes>"
      ],
      "image/png": "[encoded data removed]"
     },
     "metadata": {},
     "output_type": "display_data"
    }
   ],
   "execution_count": 32
  },
  {
   "metadata": {
    "ExecuteTime": {
     "end_time": "2025-01-08T21:49:43.891827Z",
     "start_time": "2025-01-08T21:49:43.393906Z"
    }
   },
   "cell_type": "code",
   "source": [
    "artist_offset = len(u_a[\"user\"].unique())\n",
    "tag_offset = len(u_a[\"user\"].unique()) + len(u_a[\"artist\"].unique())\n",
    "\n",
    "nodes = []\n",
    "for user in set(sorted(u_a[\"user\"])) | set(sorted(u_u[\"user1\"])) | set(sorted(u_u[\"user2\"])):\n",
    "    nodes.append([int(user), \"user\", \"red\"])\n",
    "for artist in set(sorted(u_a[\"artist\"])) | set(sorted(a_t[\"artist\"])):\n",
    "    nodes.append([int(artist) + artist_offset, \"artist\", \"blue\"])\n",
    "for tag in set(sorted(a_t[\"tag\"])):\n",
    "    nodes.append([int(tag) + tag_offset, \"tag\", \"green\"])\n",
    "\n",
    "nodes_df = pd.DataFrame(nodes, columns=[\"id\", \"type\", \"node_color\"])\n",
    "nodes_df.to_csv(\"LastFM_nodes_with_colors.csv\", index=False)\n",
    "\n",
    "edges = []\n",
    "edges.extend(\n",
    "    [[int(user), int(artist) + artist_offset, value]\n",
    "     for user, artist, value in u_a[[\"user\", \"artist\", \"weight\"]].values]\n",
    ")\n",
    "edges.extend(\n",
    "    [[int(user1), int(user2), 1]\n",
    "     for user1, user2 in u_u[[\"user1\", \"user2\"]].values]\n",
    ")\n",
    "edges.extend(\n",
    "    [[int(artist) + artist_offset, int(tag) + tag_offset, 1]\n",
    "     for artist, tag in a_t[[\"artist\", \"tag\"]].values]\n",
    ")\n",
    "edges_df = pd.DataFrame(edges, columns=[\"Source\", \"Target\", \"Value\"])\n",
    "edges_df.to_csv(\"LastFM_edges_with_labels.csv\", index=False)"
   ],
   "id": "4e650657bd3777f2",
   "outputs": [],
   "execution_count": 196
  },
  {
   "metadata": {},
   "cell_type": "markdown",
   "source": [
    "### Summary of MAGNN user-artist-tag datasets\n",
    "- The MAGNN user-artist-tag datasets consist of three relational datasets: User-Artist (U-A), User-User (U-U), and Artist-Tag (A-T).\n",
    "- The U-A dataset has 92,834 unique edges, U-U dataset has 25,434 unique edges, and the A-T dataset has 108,437 unique edges. Total edges of networkx are 213,988. However, the total edges of the dataset are 226,705, there are duplicated edges in the three datasets.\n",
    "- Unique node count is 29,242 with 1892 unique users, 17632 unique artists, and 9718 unique tags.\n",
    "- Common users are 100% in both files, 100% common artists in one file and 68.81% common artists in another file.\n",
    "- The relational datasets from MAGNN has 1 connected large component.\n",
    "- Average neighbor count is ~15, median neighbor count is 3."
   ],
   "id": "d93596cdd83ac5c2"
  },
  {
   "metadata": {},
   "cell_type": "markdown",
   "source": "***",
   "id": "fb922e6b50bfba2e"
  },
  {
   "metadata": {
    "ExecuteTime": {
     "end_time": "2025-01-08T22:19:24.555455Z",
     "start_time": "2025-01-08T22:19:24.203105Z"
    }
   },
   "cell_type": "code",
   "source": [
    "disbiome_md = pd.read_csv(\"MKG/disbiome_taxid_mondo.dat\", sep=\"\\t\", encoding=\"utf-8\", header=None, names=[\"microbe\", \"disease\"])\n",
    "gmmad2_mmet = pd.read_csv(\"MKG/gmmad2_taxid_met.dat\", sep=\"\\t\", encoding=\"utf-8\", header=None, names=[\"microbe\", \"metabolite\"])\n",
    "gmmad2_md = pd.read_csv(\"MKG/gmmad2_taxid_mondo.dat\", sep=\"\\t\", encoding=\"utf-8\", header=None, names=[\"microbe\", \"disease\"])\n",
    "hmdb_metd = pd.read_csv(\"MKG/hmdb_met_disease.dat\", sep=\"\\t\", encoding=\"utf-8\", header=None, names=[\"metabolite\", \"disease\"])\n",
    "hmdb_mmet = pd.read_csv(\"MKG/hmdb_taxid_met.dat\", sep=\"\\t\", encoding=\"utf-8\", header=None, names=[\"microbe\", \"metabolite\"])"
   ],
   "id": "a2b72cf19184b8cb",
   "outputs": [],
   "execution_count": 197
  },
  {
   "metadata": {
    "ExecuteTime": {
     "end_time": "2025-01-08T09:55:18.496641Z",
     "start_time": "2025-01-08T09:55:18.402412Z"
    }
   },
   "cell_type": "code",
   "source": [
    "common_microbes = set(disbiome_md[\"microbe\"]) & set(gmmad2_mmet[\"microbe\"]) & set(gmmad2_md[\"microbe\"])\n",
    "common_diseases = set(disbiome_md[\"disease\"]) & set(gmmad2_md[\"disease\"]) & set(hmdb_metd[\"disease\"])\n",
    "common_metabolites = set(gmmad2_mmet[\"metabolite\"]) & set(hmdb_metd[\"metabolite\"]) & set(hmdb_mmet[\"metabolite\"])\n",
    "\n",
    "print(f\"number of common microbes: {len(common_microbes)}\")\n",
    "print(f\"number of common diseases: {len(common_diseases)}\")\n",
    "print(f\"number of common metabolites: {len(common_metabolites)}\")"
   ],
   "id": "ff1b0d088a844963",
   "outputs": [
    {
     "name": "stdout",
     "output_type": "stream",
     "text": [
      "number of common microbes: 60\n",
      "number of common diseases: 9\n",
      "number of common metabolites: 80\n"
     ]
    }
   ],
   "execution_count": 123
  },
  {
   "metadata": {
    "ExecuteTime": {
     "end_time": "2025-01-08T22:19:27.520055Z",
     "start_time": "2025-01-08T22:19:27.473632Z"
    }
   },
   "cell_type": "code",
   "source": [
    "md = pd.concat([disbiome_md, gmmad2_md])\n",
    "m_ct = len(md['microbe'].unique())\n",
    "print(f\"Number of unique microbes: {m_ct}\")\n",
    "print(f\"Number of unique diseases: {len(md['disease'].unique())}\")"
   ],
   "id": "96405e42f519abea",
   "outputs": [
    {
     "name": "stdout",
     "output_type": "stream",
     "text": [
      "Number of unique microbes: 7167\n",
      "Number of unique diseases: 345\n"
     ]
    }
   ],
   "execution_count": 198
  },
  {
   "metadata": {
    "ExecuteTime": {
     "end_time": "2025-01-08T22:19:29.854948Z",
     "start_time": "2025-01-08T22:19:29.802769Z"
    }
   },
   "cell_type": "code",
   "source": [
    "mmet = pd.concat([gmmad2_mmet, hmdb_mmet])\n",
    "print(f\"Number of unique microbes: {len(mmet['microbe'].unique())}\")\n",
    "print(f\"Number of unique metabolites: {len(mmet['metabolite'].unique())}\")"
   ],
   "id": "8cb3963a93ceca6c",
   "outputs": [
    {
     "name": "stdout",
     "output_type": "stream",
     "text": [
      "Number of unique microbes: 1308\n",
      "Number of unique metabolites: 1716\n"
     ]
    }
   ],
   "execution_count": 199
  },
  {
   "metadata": {
    "ExecuteTime": {
     "end_time": "2025-01-08T10:05:22.272722Z",
     "start_time": "2025-01-08T10:05:22.266541Z"
    }
   },
   "cell_type": "code",
   "source": [
    "print(f\"Number of unique metabolites: {len(hmdb_metd['metabolite'].unique())}\")\n",
    "print(f\"Number of unique diseases: {len(hmdb_metd['disease'].unique())}\")"
   ],
   "id": "37fcc3f574dddc19",
   "outputs": [
    {
     "name": "stdout",
     "output_type": "stream",
     "text": [
      "Number of unique metabolites: 22590\n",
      "Number of unique diseases: 593\n"
     ]
    }
   ],
   "execution_count": 126
  },
  {
   "metadata": {
    "ExecuteTime": {
     "end_time": "2025-01-08T10:05:24.350858Z",
     "start_time": "2025-01-08T10:05:24.228218Z"
    }
   },
   "cell_type": "code",
   "source": [
    "print(f\"Unique edges in md: {len(md[['microbe', 'disease']].drop_duplicates())}\")\n",
    "print(f\"Unique edges in mmet: {len(mmet[['microbe', 'metabolite']].drop_duplicates())}\")\n",
    "print(f\"Unique edges in hmdb_metd: {len(hmdb_metd[['metabolite', 'disease']].drop_duplicates())}\")"
   ],
   "id": "e7a3fe48ea99ed02",
   "outputs": [
    {
     "name": "stdout",
     "output_type": "stream",
     "text": [
      "Unique edges in md: 505325\n",
      "Unique edges in mmet: 599176\n",
      "Unique edges in hmdb_metd: 27546\n"
     ]
    }
   ],
   "execution_count": 127
  },
  {
   "metadata": {
    "ExecuteTime": {
     "end_time": "2025-01-08T10:05:26.893651Z",
     "start_time": "2025-01-08T10:05:26.750426Z"
    }
   },
   "cell_type": "code",
   "source": [
    "common_microbes = set(md[\"microbe\"]) & set(mmet[\"microbe\"])\n",
    "common_diseases = set(md[\"disease\"]) & set(hmdb_metd[\"disease\"])\n",
    "common_metabolites = set(mmet[\"metabolite\"]) & set(hmdb_metd[\"metabolite\"])\n",
    "\n",
    "print(f\"Number of common microbes: {len(common_microbes)}\")\n",
    "print(f\"Number of common diseases: {len(common_diseases)}\")\n",
    "print(f\"Number of common metabolites: {len(common_metabolites)}\")\n",
    "\n",
    "print(f\"Common microbes in M-D: {(len(common_microbes)/len(md['microbe'].unique()))*100:.2f}%\")\n",
    "print(f\"Common microbes in M-MET: {(len(common_microbes)/len(mmet['microbe'].unique()))*100:.2f}%\")\n",
    "print(f\"Common diseases in M-D: {(len(common_diseases) / len(md['disease'].unique())) * 100:.2f}%\")\n",
    "print(f\"Common diseases in HMDB_MET-D: {(len(common_diseases) / len(hmdb_metd['disease'].unique())) * 100:.2f}%\")\n",
    "print(f\"Common metabolites in M-MET: {(len(common_metabolites)/len(mmet['metabolite'].unique()))*100:.2f}%\")\n",
    "print(f\"Common metabolites in HMDB_MET-D: {(len(common_metabolites)/len(hmdb_metd['metabolite'].unique()))*100:.2f}%\")"
   ],
   "id": "3cb6ae711dd10b6a",
   "outputs": [
    {
     "name": "stdout",
     "output_type": "stream",
     "text": [
      "Number of common microbes: 273\n",
      "Number of common diseases: 40\n",
      "Number of common metabolites: 483\n",
      "Common microbes in M-D: 3.81%\n",
      "Common microbes in M-MET: 20.87%\n",
      "Common diseases in M-D: 11.59%\n",
      "Common diseases in HMDB_MET-D: 6.75%\n",
      "Common metabolites in M-MET: 28.15%\n",
      "Common metabolites in HMDB_MET-D: 2.14%\n"
     ]
    }
   ],
   "execution_count": 128
  },
  {
   "metadata": {
    "ExecuteTime": {
     "end_time": "2025-01-08T22:19:51.965293Z",
     "start_time": "2025-01-08T22:19:33.966794Z"
    }
   },
   "cell_type": "code",
   "source": [
    "G = nx.Graph()\n",
    "\n",
    "for _, row in md.iterrows():\n",
    "    G.add_edge(row['microbe'], row['disease'], type='microbe_disease')\n",
    "for _, row in mmet.iterrows():\n",
    "    G.add_edge(row['microbe'], row['metabolite'], type='microbe_metabolite')\n",
    "for _, row in hmdb_metd.iterrows():\n",
    "    G.add_edge(row['metabolite'], row['disease'], type='metabolite_disease')"
   ],
   "id": "f2cee06665161c6b",
   "outputs": [],
   "execution_count": 200
  },
  {
   "metadata": {
    "ExecuteTime": {
     "end_time": "2025-01-08T22:28:51.995125Z",
     "start_time": "2025-01-08T22:19:51.970596Z"
    }
   },
   "cell_type": "code",
   "source": [
    "for node in G.nodes():\n",
    "    if node in md['microbe'].values or node in mmet['microbe'].values:\n",
    "        G.nodes[node]['type'] = 'microbe'\n",
    "    elif node in md['disease'].values or node in hmdb_metd['disease'].values:\n",
    "        G.nodes[node]['type'] = 'disease'\n",
    "    elif node in mmet['metabolite'].values or node in hmdb_metd['metabolite'].values:\n",
    "        G.nodes[node]['type'] = 'metabolite'"
   ],
   "id": "4f2262d1399ab24c",
   "outputs": [],
   "execution_count": 201
  },
  {
   "metadata": {
    "ExecuteTime": {
     "end_time": "2025-01-08T22:28:53.169114Z",
     "start_time": "2025-01-08T22:28:53.129726Z"
    }
   },
   "cell_type": "code",
   "source": [
    "node_info = list(G.nodes(data=True))\n",
    "node_df = pd.DataFrame(node_info, columns=[\"Node\", \"Attributes\"])\n",
    "node_df['type'] = node_df['Attributes'].apply(lambda x: x.get('type'))\n",
    "node_type_counts = node_df['type'].value_counts()\n",
    "print(node_type_counts)"
   ],
   "id": "9e4dba51531b8597",
   "outputs": [
    {
     "name": "stdout",
     "output_type": "stream",
     "text": [
      "type\n",
      "metabolite    23823\n",
      "microbe        8202\n",
      "disease         898\n",
      "Name: count, dtype: int64\n"
     ]
    }
   ],
   "execution_count": 202
  },
  {
   "metadata": {
    "ExecuteTime": {
     "end_time": "2025-01-08T08:55:57.678488Z",
     "start_time": "2025-01-08T08:55:57.666422Z"
    }
   },
   "cell_type": "code",
   "source": [
    "print(f\"Total nodes: {G.number_of_nodes()}\")\n",
    "print(f\"Total edges: {G.number_of_edges()}\")"
   ],
   "id": "744b0d8d3bb87133",
   "outputs": [
    {
     "name": "stdout",
     "output_type": "stream",
     "text": [
      "Total nodes: 32923\n",
      "Total edges: 1132047\n"
     ]
    }
   ],
   "execution_count": 41
  },
  {
   "metadata": {
    "ExecuteTime": {
     "end_time": "2025-01-08T08:55:57.816302Z",
     "start_time": "2025-01-08T08:55:57.802791Z"
    }
   },
   "cell_type": "code",
   "source": "degree_centrality = nx.degree_centrality(G)",
   "id": "6e182d36cf8eea2d",
   "outputs": [],
   "execution_count": 43
  },
  {
   "metadata": {
    "ExecuteTime": {
     "end_time": "2025-01-08T08:55:59.666658Z",
     "start_time": "2025-01-08T08:55:57.908440Z"
    }
   },
   "cell_type": "code",
   "source": [
    "density = nx.density(G)\n",
    "components = nx.number_connected_components(G)\n",
    "degree_correlation = nx.degree_assortativity_coefficient(G)\n",
    "\n",
    "print(f\"Graph Density: {density*100:.2f}% of the possible connections between nodes\")\n",
    "print(f\"Number of distinct sub-networks within overall network: {components}\")\n",
    "print(f\"Degree Correlation where high-degree nodes are connected to peripheral nodes: {degree_correlation}\")"
   ],
   "id": "7f9617e6494a62fb",
   "outputs": [
    {
     "name": "stdout",
     "output_type": "stream",
     "text": [
      "Graph Density: 0.21% of the possible connections between nodes\n",
      "Number of distinct sub-networks within overall network: 27\n",
      "Degree Correlation where high-degree nodes are connected to peripheral nodes: -0.38043422383946\n"
     ]
    }
   ],
   "execution_count": 44
  },
  {
   "metadata": {
    "ExecuteTime": {
     "end_time": "2025-01-08T08:55:59.714298Z",
     "start_time": "2025-01-08T08:55:59.686237Z"
    }
   },
   "cell_type": "code",
   "source": "neighbor_counts = {node: len(list(G.neighbors(node))) for node in G.nodes()}",
   "id": "3d4dfd42b1bf1667",
   "outputs": [],
   "execution_count": 45
  },
  {
   "metadata": {
    "ExecuteTime": {
     "end_time": "2025-01-08T08:55:59.756028Z",
     "start_time": "2025-01-08T08:55:59.750551Z"
    }
   },
   "cell_type": "code",
   "source": [
    "counts = list(neighbor_counts.values())\n",
    "counts_array = np.array(counts)\n",
    "\n",
    "# Compute statistical summary\n",
    "summary = {\n",
    "    \"count\": len(counts_array),\n",
    "    \"mean\": np.mean(counts_array),\n",
    "    \"std\": np.std(counts_array),\n",
    "    \"min\": np.min(counts_array),\n",
    "    \"25%\": np.percentile(counts_array, 25),\n",
    "    \"50% (median)\": np.median(counts_array),\n",
    "    \"75%\": np.percentile(counts_array, 75),\n",
    "    \"max\": np.max(counts_array),\n",
    "}\n",
    "summary"
   ],
   "id": "775672fa61422e49",
   "outputs": [
    {
     "data": {
      "text/plain": [
       "{'count': 32923,\n",
       " 'mean': np.float64(68.76937095647419),\n",
       " 'std': np.float64(357.45719050096466),\n",
       " 'min': np.int64(1),\n",
       " '25%': np.float64(1.0),\n",
       " '50% (median)': np.float64(1.0),\n",
       " '75%': np.float64(62.5),\n",
       " 'max': np.int64(20017)}"
      ]
     },
     "execution_count": 46,
     "metadata": {},
     "output_type": "execute_result"
    }
   ],
   "execution_count": 46
  },
  {
   "metadata": {
    "ExecuteTime": {
     "end_time": "2025-01-08T08:55:59.823305Z",
     "start_time": "2025-01-08T08:55:59.820701Z"
    }
   },
   "cell_type": "code",
   "source": [
    "filtered_counts = {k: v for k, v in neighbor_counts.items() if v > 100}\n",
    "print(f\"Number of nodes with more than 100 neighbors: {len(filtered_counts)}\")"
   ],
   "id": "a93eb51a91b316aa",
   "outputs": [
    {
     "name": "stdout",
     "output_type": "stream",
     "text": [
      "Number of nodes with more than 100 neighbors: 2036\n"
     ]
    }
   ],
   "execution_count": 47
  },
  {
   "metadata": {
    "ExecuteTime": {
     "end_time": "2025-01-08T08:55:59.938311Z",
     "start_time": "2025-01-08T08:55:59.843443Z"
    }
   },
   "cell_type": "code",
   "source": [
    "# box plot of neighbor counts\n",
    "plt.boxplot(counts, vert=False)\n",
    "plt.xlabel(\"Number of Neighbors\")\n",
    "plt.title(\"Neighbor Count Distribution\")\n",
    "plt.show()"
   ],
   "id": "e4ef7f496931eb18",
   "outputs": [
    {
     "data": {
      "text/plain": [
       "<Figure size 640x480 with 1 Axes>"
      ],
      "image/png": "[encoded data removed]"
     },
     "metadata": {},
     "output_type": "display_data"
    }
   ],
   "execution_count": 48
  },
  {
   "metadata": {
    "ExecuteTime": {
     "end_time": "2025-01-08T08:56:00.050044Z",
     "start_time": "2025-01-08T08:55:59.974551Z"
    }
   },
   "cell_type": "code",
   "source": [
    "# histogram of neighbor counts\n",
    "plt.hist(counts, bins=20, edgecolor=\"black\")\n",
    "plt.xlabel(\"Number of Neighbors\")\n",
    "plt.ylabel(\"Frequency\")\n",
    "plt.title(\"Distribution of Neighbor Counts\")\n",
    "plt.show()"
   ],
   "id": "e087c233d58a703c",
   "outputs": [
    {
     "data": {
      "text/plain": [
       "<Figure size 640x480 with 1 Axes>"
      ],
      "image/png": "[encoded data removed]"
     },
     "metadata": {},
     "output_type": "display_data"
    }
   ],
   "execution_count": 49
  },
  {
   "metadata": {
    "ExecuteTime": {
     "end_time": "2025-01-08T22:50:20.641391Z",
     "start_time": "2025-01-08T22:50:17.488144Z"
    }
   },
   "cell_type": "code",
   "source": [
    "nodes = []\n",
    "for microbe in set(sorted(md[\"microbe\"])) | set(sorted(mmet[\"microbe\"])):\n",
    "    nodes.append([microbe, \"microbe\", \"blue\"])\n",
    "for disease in set(sorted(md[\"disease\"])) | set(sorted(hmdb_metd[\"disease\"])):\n",
    "    nodes.append([disease, \"disease\", \"red\"])\n",
    "for metabolite in set(sorted(mmet[\"metabolite\"])) | set(sorted(hmdb_metd[\"metabolite\"])):\n",
    "    nodes.append([metabolite, \"metabolite\", \"green\"])\n",
    "\n",
    "nodes_df = pd.DataFrame(nodes, columns=[\"id\", \"type\", \"node_color\"])\n",
    "nodes_df.to_csv(\"Full_MKG_nodes_with_colors.csv\", index=False)\n",
    "\n",
    "edges = []\n",
    "edges.extend(\n",
    "    [[microbe, disease, 1]\n",
    "     for microbe, disease in md[[\"microbe\", \"disease\"]].values]\n",
    ")\n",
    "edges.extend(\n",
    "    [[microbe, metabolite, 1]\n",
    "    for microbe, metabolite in mmet[[\"microbe\", \"metabolite\"]].values]\n",
    ")\n",
    "edges.extend(\n",
    "    [[metabolite, disease, 1]\n",
    "    for metabolite, disease in hmdb_metd[[\"metabolite\", \"disease\"]].values]\n",
    ")\n",
    "\n",
    "edges_df = pd.DataFrame(edges, columns=[\"Source\", \"Target\", \"Value\"])\n",
    "edges_df.to_csv(\"Full_MKG_edges_with_labels.csv\", index=False)"
   ],
   "id": "7bcca6d006cc9c01",
   "outputs": [],
   "execution_count": 205
  },
  {
   "metadata": {},
   "cell_type": "markdown",
   "source": [
    "### Summary of entire MKG datasets\n",
    "- The MKG datasets consist of three relational datasets: Microbe-Disease (MD), Microbe-Metabolite (MMET), Metabolite_Disease (HMDB_METD).\n",
    "- The MD dataset has 505,325 unique edges, the MMET dataset has 599,176 unique edges, and the HMDB_METD dataset has 27,546 unique edges. Total edges are 1,132,047.\n",
    "- Total node count is 32,923 with 8202 unique microbes, 898 unique diseases, and 23823 unique metabolites.\n",
    "- Common microbes in M-D: 3.81%; Common microbes in M-MET: 20.87%; Common diseases in M-D: 11.59%; Common diseases in HMDB_MET-D: 6.75%; Common metabolites in M-MET: 28.15%; Common metabolites in HMDB_MET-D: 2.14%.\n",
    "- The relational datasets from MKG has 27 sub-graphs.\n",
    "- Average neighbor count is ~69, median neighbor count is 1."
   ],
   "id": "e3e3d73523171e09"
  },
  {
   "metadata": {},
   "cell_type": "markdown",
   "source": "***",
   "id": "e4dbeaf2810e0948"
  },
  {
   "metadata": {},
   "cell_type": "markdown",
   "source": "## Find the largest connected component in the MKG network",
   "id": "e757c97ff416e78d"
  },
  {
   "metadata": {
    "ExecuteTime": {
     "end_time": "2025-01-08T08:56:00.167073Z",
     "start_time": "2025-01-08T08:56:00.085549Z"
    }
   },
   "cell_type": "code",
   "source": [
    "largest_cc = max(nx.connected_components(G), key=len)\n",
    "largest_subgraph = G.subgraph(largest_cc)"
   ],
   "id": "4f476bb336a20f05",
   "outputs": [],
   "execution_count": 50
  },
  {
   "metadata": {
    "ExecuteTime": {
     "end_time": "2025-01-08T08:56:11.655035Z",
     "start_time": "2025-01-08T08:56:00.671904Z"
    }
   },
   "cell_type": "code",
   "source": [
    "# find the maximum clique in largest subgraph\n",
    "max_clique = max(nx.find_cliques(largest_subgraph), key=len)\n",
    "print(f\"Maximum clique: {max_clique}\")"
   ],
   "id": "91456fdd381b8e7c",
   "outputs": [
    {
     "name": "stdout",
     "output_type": "stream",
     "text": [
      "Maximum clique: ['PUBCHEM.COMPOUND:88412', 'NCBITaxon:1496', 'MONDO:0005575']\n"
     ]
    }
   ],
   "execution_count": 51
  },
  {
   "metadata": {
    "ExecuteTime": {
     "end_time": "2025-01-08T08:56:12.611942Z",
     "start_time": "2025-01-08T08:56:12.156858Z"
    }
   },
   "cell_type": "code",
   "source": [
    "density = nx.density(largest_subgraph)\n",
    "print(f\"Density of largest subgraph: {density}\")"
   ],
   "id": "31c0c9791ba8057d",
   "outputs": [
    {
     "name": "stdout",
     "output_type": "stream",
     "text": [
      "Density of largest subgraph: 0.0020968065159428033\n"
     ]
    }
   ],
   "execution_count": 52
  },
  {
   "metadata": {
    "ExecuteTime": {
     "end_time": "2025-01-08T08:56:17.408914Z",
     "start_time": "2025-01-08T08:56:13.106863Z"
    }
   },
   "cell_type": "code",
   "source": [
    "node_info = list(largest_subgraph.nodes(data=True))\n",
    "edge_info = list(largest_subgraph.edges(data=True))"
   ],
   "id": "949f80bee70b55e",
   "outputs": [],
   "execution_count": 53
  },
  {
   "metadata": {
    "ExecuteTime": {
     "end_time": "2025-01-08T08:56:17.942639Z",
     "start_time": "2025-01-08T08:56:17.909083Z"
    }
   },
   "cell_type": "code",
   "source": [
    "node_df = pd.DataFrame(node_info, columns=[\"Node\", \"Attributes\"])\n",
    "node_df.to_csv(\"MKG/largest_cc_nodes.csv\", index=False)"
   ],
   "id": "7a60e51d928283dc",
   "outputs": [],
   "execution_count": 54
  },
  {
   "metadata": {
    "ExecuteTime": {
     "end_time": "2025-01-08T08:56:18.441301Z",
     "start_time": "2025-01-08T08:56:18.439201Z"
    }
   },
   "cell_type": "code",
   "source": "print(node_df.head())",
   "id": "3f09b0cde7864121",
   "outputs": [
    {
     "name": "stdout",
     "output_type": "stream",
     "text": [
      "               Node           Attributes\n",
      "0  NCBITaxon:165179  {'type': 'microbe'}\n",
      "1     MONDO:0019100  {'type': 'disease'}\n",
      "2    NCBITaxon:1686  {'type': 'microbe'}\n",
      "3     MONDO:0005575  {'type': 'disease'}\n",
      "4   NCBITaxon:68766  {'type': 'microbe'}\n"
     ]
    }
   ],
   "execution_count": 55
  },
  {
   "metadata": {
    "ExecuteTime": {
     "end_time": "2025-01-08T08:56:18.944897Z",
     "start_time": "2025-01-08T08:56:18.936417Z"
    }
   },
   "cell_type": "code",
   "source": [
    "node_df['type'] = node_df['Attributes'].apply(lambda x: x.get('type'))\n",
    "node_type_counts = node_df['type'].value_counts()\n",
    "print(node_type_counts)"
   ],
   "id": "747698ca9efb5a83",
   "outputs": [
    {
     "name": "stdout",
     "output_type": "stream",
     "text": [
      "type\n",
      "metabolite    23789\n",
      "microbe        8191\n",
      "disease         880\n",
      "Name: count, dtype: int64\n"
     ]
    }
   ],
   "execution_count": 56
  },
  {
   "metadata": {
    "ExecuteTime": {
     "end_time": "2025-01-08T08:56:21.072549Z",
     "start_time": "2025-01-08T08:56:19.439847Z"
    }
   },
   "cell_type": "code",
   "source": [
    "edge_df = pd.DataFrame(edge_info, columns=[\"Source\", \"Target\", \"Attributes\"])\n",
    "edge_df.to_csv(\"MKG/largest_cc_edges.csv\", index=False)"
   ],
   "id": "3a1a96b3713dd49c",
   "outputs": [],
   "execution_count": 57
  },
  {
   "metadata": {
    "ExecuteTime": {
     "end_time": "2025-01-08T08:56:21.975379Z",
     "start_time": "2025-01-08T08:56:21.572521Z"
    }
   },
   "cell_type": "code",
   "source": [
    "edge_df['type'] = edge_df['Attributes'].apply(lambda x: x.get('type'))\n",
    "edge_type_counts = edge_df['type'].value_counts()\n",
    "print(edge_type_counts)"
   ],
   "id": "177706f5782d7275",
   "outputs": [
    {
     "name": "stdout",
     "output_type": "stream",
     "text": [
      "type\n",
      "microbe_metabolite    599160\n",
      "microbe_disease       505325\n",
      "metabolite_disease     27525\n",
      "Name: count, dtype: int64\n"
     ]
    }
   ],
   "execution_count": 58
  },
  {
   "metadata": {},
   "cell_type": "markdown",
   "source": "I think I will start with the common microbes, diseases and metabolites as input data first...",
   "id": "682e5f9238ba4eea"
  },
  {
   "metadata": {},
   "cell_type": "markdown",
   "source": "***",
   "id": "6be34408a44b7564"
  },
  {
   "metadata": {},
   "cell_type": "markdown",
   "source": "## Find the common nodes and edges in the MKG network",
   "id": "f2939a88c7c28cf6"
  },
  {
   "metadata": {
    "ExecuteTime": {
     "end_time": "2025-01-08T23:02:33.180736Z",
     "start_time": "2025-01-08T23:02:32.688331Z"
    }
   },
   "cell_type": "code",
   "source": [
    "disbiome_md = pd.read_csv(\"MKG/disbiome_taxid_mondo.dat\", sep=\"\\t\", encoding=\"utf-8\", header=None, names=[\"microbe\", \"disease\"])\n",
    "gmmad2_mmet = pd.read_csv(\"MKG/gmmad2_taxid_met.dat\", sep=\"\\t\", encoding=\"utf-8\", header=None, names=[\"microbe\", \"metabolite\"])\n",
    "gmmad2_md = pd.read_csv(\"MKG/gmmad2_taxid_mondo.dat\", sep=\"\\t\", encoding=\"utf-8\", header=None, names=[\"microbe\", \"disease\"])\n",
    "hmdb_metd = pd.read_csv(\"MKG/hmdb_met_disease.dat\", sep=\"\\t\", encoding=\"utf-8\", header=None, names=[\"metabolite\", \"disease\"])\n",
    "hmdb_mmet = pd.read_csv(\"MKG/hmdb_taxid_met.dat\", sep=\"\\t\", encoding=\"utf-8\", header=None, names=[\"microbe\", \"metabolite\"])"
   ],
   "id": "1c3d066e30b5f7cc",
   "outputs": [],
   "execution_count": 207
  },
  {
   "metadata": {
    "ExecuteTime": {
     "end_time": "2025-01-08T23:02:34.641495Z",
     "start_time": "2025-01-08T23:02:34.627962Z"
    }
   },
   "cell_type": "code",
   "source": [
    "md = pd.concat([disbiome_md, gmmad2_md])\n",
    "mmet = pd.concat([gmmad2_mmet, hmdb_mmet])"
   ],
   "id": "9487ed20ecc6ab19",
   "outputs": [],
   "execution_count": 208
  },
  {
   "metadata": {
    "ExecuteTime": {
     "end_time": "2025-01-08T10:34:53.929411Z",
     "start_time": "2025-01-08T10:34:53.846902Z"
    }
   },
   "cell_type": "code",
   "source": [
    "common_microbes = set(md[\"microbe\"]) & set(mmet[\"microbe\"])\n",
    "common_diseases = set(md[\"disease\"]) & set(hmdb_metd[\"disease\"])\n",
    "common_metabolites = set(mmet[\"metabolite\"]) & set(hmdb_metd[\"metabolite\"])\n",
    "\n",
    "print(f\"Number of common microbes: {len(common_microbes)}\")\n",
    "print(f\"Number of common diseases: {len(common_diseases)}\")\n",
    "print(f\"Number of common metabolites: {len(common_metabolites)}\")"
   ],
   "id": "11261b0d5a1f6593",
   "outputs": [
    {
     "name": "stdout",
     "output_type": "stream",
     "text": [
      "Number of common microbes: 273\n",
      "Number of common diseases: 40\n",
      "Number of common metabolites: 483\n"
     ]
    }
   ],
   "execution_count": 178
  },
  {
   "metadata": {
    "ExecuteTime": {
     "end_time": "2025-01-08T10:34:59.056966Z",
     "start_time": "2025-01-08T10:34:58.914088Z"
    }
   },
   "cell_type": "code",
   "source": [
    "# find common microbes in md and mmet\n",
    "common_microbes = set(md[\"microbe\"]) & set(mmet[\"microbe\"])\n",
    "filtered_md = md[md[\"microbe\"].isin(common_microbes)]\n",
    "filtered_mmet = mmet[mmet[\"microbe\"].isin(common_microbes)]\n",
    "\n",
    "missing_microbes = set(common_microbes) - set(filtered_md[\"microbe\"])\n",
    "print(f\"Missing microbes: {missing_microbes}\")\n",
    "missing_microbes = set(common_microbes) - set(filtered_mmet[\"microbe\"])\n",
    "print(f\"Missing microbes: {missing_microbes}\")\n",
    "\n",
    "# find common diseases in md and hmdb_metd\n",
    "common_diseases = set(md[\"disease\"]) & set(hmdb_metd[\"disease\"])\n",
    "filtered_md = filtered_md[filtered_md[\"disease\"].isin(common_diseases)]\n",
    "filtered_hmdb_metd = hmdb_metd[hmdb_metd[\"disease\"].isin(common_diseases)]\n",
    "\n",
    "missing_diseases = set(common_diseases) - set(filtered_md[\"disease\"])\n",
    "print(f\"Missing diseases: {missing_diseases}\")\n",
    "missing_diseases = set(common_diseases) - set(filtered_hmdb_metd[\"disease\"])\n",
    "print(f\"Missing diseases: {missing_diseases}\")\n",
    "\n",
    "# find common metabolites in mmet and hmdb_metd\n",
    "common_metabolites = set(mmet[\"metabolite\"]) & set(hmdb_metd[\"metabolite\"])\n",
    "filtered_mmet = filtered_mmet[filtered_mmet[\"metabolite\"].isin(common_metabolites)]\n",
    "filtered_hmdb_metd = filtered_hmdb_metd[filtered_hmdb_metd[\"metabolite\"].isin(common_metabolites)]\n",
    "\n",
    "missing_metabolites = set(common_metabolites) - set(filtered_mmet[\"metabolite\"])\n",
    "print(f\"Missing metabolites: {missing_metabolites}\")\n",
    "print(f\"count of missing metabolites: {len(missing_metabolites)}\")\n",
    "missing_metabolites = set(common_metabolites) - set(filtered_hmdb_metd[\"metabolite\"])\n",
    "print(f\"Missing metabolites: {missing_metabolites}\")\n",
    "print(f\"count of missing metabolites: {len(missing_metabolites)}\")\n",
    "\n",
    "# add weights if there are duplicate relationships\n",
    "filtered_md[\"weight\"] = filtered_md.groupby([\"microbe\", \"disease\"])[\"microbe\"].transform(\"count\")\n",
    "filtered_mmet[\"weight\"] = filtered_mmet.groupby([\"microbe\", \"metabolite\"])[\"microbe\"].transform(\"count\")\n",
    "filtered_hmdb_metd[\"weight\"] = filtered_hmdb_metd.groupby([\"metabolite\", \"disease\"])[\"metabolite\"].transform(\"count\")\n",
    "\n",
    "# save as tab-separated .dat files\n",
    "filtered_md.to_csv(\"MKG/common_microbe_disease.dat\", sep=\"\\t\", index=False, header=False)\n",
    "filtered_mmet.to_csv(\"MKG/common_microbe_metabolite.dat\", sep=\"\\t\", index=False, header=False)\n",
    "filtered_hmdb_metd.to_csv(\"MKG/common_metabolite_disease.dat\", sep=\"\\t\", index=False, header=False)"
   ],
   "id": "cc6f482e3478391",
   "outputs": [
    {
     "name": "stdout",
     "output_type": "stream",
     "text": [
      "Missing microbes: set()\n",
      "Missing microbes: set()\n",
      "Missing diseases: {'MONDO:0001711', 'MONDO:0002974', 'MONDO:0008315', 'MONDO:0016264', 'MONDO:0005649'}\n",
      "Missing diseases: set()\n",
      "Missing metabolites: {'CHEBI:15430', 'PUBCHEM.COMPOUND:3845', 'PUBCHEM.COMPOUND:12594', 'PUBCHEM.COMPOUND:6992567', 'PUBCHEM.COMPOUND:5810', 'PUBCHEM.COMPOUND:638072', 'PUBCHEM.COMPOUND:6213', 'PUBCHEM.COMPOUND:151138', 'PUBCHEM.COMPOUND:445408', 'PUBCHEM.COMPOUND:439373', 'PUBCHEM.COMPOUND:1738', 'PUBCHEM.COMPOUND:1826', 'PUBCHEM.COMPOUND:5280489', 'PUBCHEM.COMPOUND:65249', 'PUBCHEM.COMPOUND:5994', 'PUBCHEM.COMPOUND:3001028', 'PUBCHEM.COMPOUND:83697', 'PUBCHEM.COMPOUND:10742', 'PUBCHEM.COMPOUND:6329', 'PUBCHEM.COMPOUND:444718', 'PUBCHEM.COMPOUND:428', 'PUBCHEM.COMPOUND:8314', 'PUBCHEM.COMPOUND:328', 'PUBCHEM.COMPOUND:5997', 'PUBCHEM.COMPOUND:5280795', 'PUBCHEM.COMPOUND:11671', 'PUBCHEM.COMPOUND:168381', 'PUBCHEM.COMPOUND:5280445', 'PUBCHEM.COMPOUND:152323', 'PUBCHEM.COMPOUND:439194', 'PUBCHEM.COMPOUND:439260', 'PUBCHEM.COMPOUND:7991', 'PUBCHEM.COMPOUND:450268', 'PUBCHEM.COMPOUND:439227', 'PUBCHEM.COMPOUND:123743', 'PUBCHEM.COMPOUND:444305', 'PUBCHEM.COMPOUND:7420', 'PUBCHEM.COMPOUND:179', 'PUBCHEM.COMPOUND:71', 'PUBCHEM.COMPOUND:5484352', 'PUBCHEM.COMPOUND:176907', 'PUBCHEM.COMPOUND:91451', 'PUBCHEM.COMPOUND:8617', 'PUBCHEM.COMPOUND:68499', 'PUBCHEM.COMPOUND:10010', 'PUBCHEM.COMPOUND:5317750', 'PUBCHEM.COMPOUND:6238', 'PUBCHEM.COMPOUND:8955', 'PUBCHEM.COMPOUND:182230', 'PUBCHEM.COMPOUND:5870', 'PUBCHEM.COMPOUND:221122', 'PUBCHEM.COMPOUND:916', 'PUBCHEM.COMPOUND:92907', 'PUBCHEM.COMPOUND:10972', 'PUBCHEM.COMPOUND:10467', 'PUBCHEM.COMPOUND:6037', 'PUBCHEM.COMPOUND:602', 'PUBCHEM.COMPOUND:681', 'PUBCHEM.COMPOUND:169019', 'PUBCHEM.COMPOUND:342', 'PUBCHEM.COMPOUND:5881', 'PUBCHEM.COMPOUND:700653', 'PUBCHEM.COMPOUND:160556', 'PUBCHEM.COMPOUND:5699', 'PUBCHEM.COMPOUND:5312805', 'PUBCHEM.COMPOUND:222285', 'PUBCHEM.COMPOUND:9856500', 'PUBCHEM.COMPOUND:12591', 'PUBCHEM.COMPOUND:95433', 'PUBCHEM.COMPOUND:86957'}\n",
      "count of missing metabolites: 70\n",
      "Missing metabolites: {'CHEBI:15430', 'PUBCHEM.COMPOUND:21706', 'PUBCHEM.COMPOUND:439155', 'PUBCHEM.COMPOUND:444266', 'PUBCHEM.COMPOUND:1052', 'PUBCHEM.COMPOUND:160603', 'PUBCHEM.COMPOUND:312', 'PUBCHEM.COMPOUND:27099', 'PUBCHEM.COMPOUND:65249', 'PUBCHEM.COMPOUND:3001028', 'PUBCHEM.COMPOUND:160645', 'PUBCHEM.COMPOUND:496', 'PUBCHEM.COMPOUND:1018', 'PUBCHEM.COMPOUND:32051', 'PUBCHEM.COMPOUND:152323', 'PUBCHEM.COMPOUND:724', 'PUBCHEM.COMPOUND:187', 'PUBCHEM.COMPOUND:65070', 'PUBCHEM.COMPOUND:785', 'PUBCHEM.COMPOUND:1117', 'PUBCHEM.COMPOUND:68499', 'PUBCHEM.COMPOUND:6030', 'PUBCHEM.COMPOUND:5870', 'PUBCHEM.COMPOUND:916', 'PUBCHEM.COMPOUND:1549098', 'PUBCHEM.COMPOUND:17513', 'PUBCHEM.COMPOUND:95433', 'PUBCHEM.COMPOUND:11333', 'PUBCHEM.COMPOUND:1055', 'PUBCHEM.COMPOUND:1669', 'PUBCHEM.COMPOUND:439232', 'PUBCHEM.COMPOUND:165271', 'PUBCHEM.COMPOUND:84290', 'PUBCHEM.COMPOUND:5460935', 'PUBCHEM.COMPOUND:150929', 'PUBCHEM.COMPOUND:5280795', 'PUBCHEM.COMPOUND:440776', 'PUBCHEM.COMPOUND:168381', 'PUBCHEM.COMPOUND:98', 'PUBCHEM.COMPOUND:971', 'PUBCHEM.COMPOUND:675', 'PUBCHEM.COMPOUND:439227', 'PUBCHEM.COMPOUND:91528', 'PUBCHEM.COMPOUND:176907', 'PUBCHEM.COMPOUND:91451', 'PUBCHEM.COMPOUND:8988', 'PUBCHEM.COMPOUND:160666', 'PUBCHEM.COMPOUND:181976', 'PUBCHEM.COMPOUND:896', 'PUBCHEM.COMPOUND:193872', 'PUBCHEM.COMPOUND:69507', 'PUBCHEM.COMPOUND:91469', 'PUBCHEM.COMPOUND:10296', 'PUBCHEM.COMPOUND:5312805', 'PUBCHEM.COMPOUND:33037', 'PUBCHEM.COMPOUND:3037582', 'PUBCHEM.COMPOUND:9085', 'PUBCHEM.COMPOUND:439373', 'PUBCHEM.COMPOUND:668', 'PUBCHEM.COMPOUND:1103', 'PUBCHEM.COMPOUND:487', 'PUBCHEM.COMPOUND:123689', 'PUBCHEM.COMPOUND:280', 'PUBCHEM.COMPOUND:26623', 'PUBCHEM.COMPOUND:8742', 'PUBCHEM.COMPOUND:1198', 'PUBCHEM.COMPOUND:6022', 'PUBCHEM.COMPOUND:335', 'PUBCHEM.COMPOUND:71', 'PUBCHEM.COMPOUND:101543', 'PUBCHEM.COMPOUND:84571', 'PUBCHEM.COMPOUND:6047', 'PUBCHEM.COMPOUND:10010', 'PUBCHEM.COMPOUND:439278', 'PUBCHEM.COMPOUND:5892', 'PUBCHEM.COMPOUND:439924', 'PUBCHEM.COMPOUND:1169', 'PUBCHEM.COMPOUND:970', 'PUBCHEM.COMPOUND:16950', 'PUBCHEM.COMPOUND:1005', 'PUBCHEM.COMPOUND:86957', 'PUBCHEM.COMPOUND:1021', 'PUBCHEM.COMPOUND:1000', 'PUBCHEM.COMPOUND:515', 'PUBCHEM.COMPOUND:68841', 'PUBCHEM.COMPOUND:7027', 'PUBCHEM.COMPOUND:68144', 'PUBCHEM.COMPOUND:6213', 'PUBCHEM.COMPOUND:5460362', 'PUBCHEM.COMPOUND:10111', 'PUBCHEM.COMPOUND:29936', 'PUBCHEM.COMPOUND:128869', 'PUBCHEM.COMPOUND:145068', 'PUBCHEM.COMPOUND:1131', 'PUBCHEM.COMPOUND:439184', 'PUBCHEM.COMPOUND:86', 'PUBCHEM.COMPOUND:5957', 'PUBCHEM.COMPOUND:947', 'PUBCHEM.COMPOUND:402', 'PUBCHEM.COMPOUND:27854', 'PUBCHEM.COMPOUND:115089', 'PUBCHEM.COMPOUND:137', 'PUBCHEM.COMPOUND:89472', 'PUBCHEM.COMPOUND:602', 'PUBCHEM.COMPOUND:439153', 'PUBCHEM.COMPOUND:342', 'PUBCHEM.COMPOUND:58', 'PUBCHEM.COMPOUND:5885', 'PUBCHEM.COMPOUND:10357', 'PUBCHEM.COMPOUND:6453952'}\n",
      "count of missing metabolites: 110\n"
     ]
    }
   ],
   "execution_count": 179
  },
  {
   "metadata": {
    "ExecuteTime": {
     "end_time": "2025-01-08T10:35:05.289622Z",
     "start_time": "2025-01-08T10:35:05.276930Z"
    }
   },
   "cell_type": "code",
   "source": [
    "print(f\"Unique edges in filtered_md: {len(filtered_md[['microbe', 'disease']].drop_duplicates())}\")\n",
    "print(f\"Unique edges in filtered_mmet: {len(filtered_mmet[['microbe', 'metabolite']].drop_duplicates())}\")\n",
    "print(f\"Unique edges in filtered_hmdb_metd: {len(filtered_hmdb_metd[['metabolite', 'disease']].drop_duplicates())}\")"
   ],
   "id": "1b15815a3fad29cc",
   "outputs": [
    {
     "name": "stdout",
     "output_type": "stream",
     "text": [
      "Unique edges in filtered_md: 4187\n",
      "Unique edges in filtered_mmet: 11170\n",
      "Unique edges in filtered_hmdb_metd: 903\n"
     ]
    }
   ],
   "execution_count": 180
  },
  {
   "metadata": {
    "ExecuteTime": {
     "end_time": "2025-01-08T10:35:07.089683Z",
     "start_time": "2025-01-08T10:35:07.083948Z"
    }
   },
   "cell_type": "code",
   "source": [
    "filtered_common_microbes = set(filtered_md['microbe']).intersection(set(filtered_mmet['microbe']))\n",
    "filtered_common_diseases = set(filtered_md['disease']).intersection(set(filtered_hmdb_metd['disease']))\n",
    "filtered_common_metabolites = set(filtered_mmet['metabolite']).intersection(set(filtered_hmdb_metd['metabolite']))\n",
    "\n",
    "print(f\"Common Microbes in filtered M-D: {len(filtered_common_microbes) / len(filtered_md['microbe'].unique()) * 100:.2f}%\")\n",
    "print(f\"Common Microbes in filtered M-MET: {len(filtered_common_microbes) / len(filtered_mmet['microbe'].unique()) * 100:.2f}%\")\n",
    "print(f\"Common Diseases in filtered M-D: {len(filtered_common_diseases) / len(filtered_md['disease'].unique()) * 100:.2f}%\")\n",
    "print(f\"Common Diseases in filtered HMDB_MET-D: {len(filtered_common_diseases) / len(filtered_hmdb_metd['disease'].unique()) * 100:.2f}%\")\n",
    "print(f\"Common Metabolites in filtered M-MET: {len(filtered_common_metabolites) / len(filtered_mmet['metabolite'].unique()) * 100:.2f}%\")\n",
    "print(f\"Common Metabolites in filtered HMDB_MET-D: {len(filtered_common_metabolites) / len(filtered_hmdb_metd['metabolite'].unique()) * 100:.2f}%\")"
   ],
   "id": "f31149cffef6fe4a",
   "outputs": [
    {
     "name": "stdout",
     "output_type": "stream",
     "text": [
      "Common Microbes in filtered M-D: 90.11%\n",
      "Common Microbes in filtered M-MET: 96.34%\n",
      "Common Diseases in filtered M-D: 85.71%\n",
      "Common Diseases in filtered HMDB_MET-D: 88.24%\n",
      "Common Metabolites in filtered M-MET: 78.45%\n",
      "Common Metabolites in filtered HMDB_MET-D: 86.86%\n"
     ]
    }
   ],
   "execution_count": 181
  },
  {
   "metadata": {
    "ExecuteTime": {
     "end_time": "2025-01-08T10:35:10.515657Z",
     "start_time": "2025-01-08T10:35:10.511591Z"
    }
   },
   "cell_type": "code",
   "source": [
    "# unique microbe count\n",
    "unique_microbes = len(set(filtered_md['microbe']) | set(filtered_mmet['microbe']))\n",
    "\n",
    "# unique disease count\n",
    "unique_diseases = len(set(filtered_md['disease']) | set(filtered_hmdb_metd['disease']))\n",
    "\n",
    "# unique metabolite count\n",
    "unique_metabolites = len(set(filtered_mmet['metabolite']) | set(filtered_hmdb_metd['metabolite']))\n",
    "\n",
    "# display the counts\n",
    "print(f\"Unique Microbes: {unique_microbes}\")\n",
    "print(f\"Unique Diseases: {unique_diseases}\")\n",
    "print(f\"Unique Metabolites: {unique_metabolites}\")"
   ],
   "id": "2da11607a8cbb324",
   "outputs": [
    {
     "name": "stdout",
     "output_type": "stream",
     "text": [
      "Unique Microbes: 272\n",
      "Unique Diseases: 39\n",
      "Unique Metabolites: 462\n"
     ]
    }
   ],
   "execution_count": 182
  },
  {
   "metadata": {
    "ExecuteTime": {
     "end_time": "2025-01-08T10:35:12.950729Z",
     "start_time": "2025-01-08T10:35:12.757386Z"
    }
   },
   "cell_type": "code",
   "source": [
    "G = nx.Graph()\n",
    "\n",
    "for _, index in filtered_md.iterrows():\n",
    "    G.add_edge(index[\"microbe\"], index[\"disease\"], weight=index[\"weight\"], type=\"microbe_disease\")\n",
    "for _, index in filtered_mmet.iterrows():\n",
    "    G.add_edge(index[\"microbe\"], index[\"metabolite\"], weight=index[\"weight\"], type=\"microbe_metabolite\")\n",
    "for _, index in filtered_hmdb_metd.iterrows():\n",
    "    G.add_edge(index[\"metabolite\"], index[\"disease\"], weight=index[\"weight\"], type=\"metabolite_disease\")"
   ],
   "id": "2ec8d1f8421b7bd7",
   "outputs": [],
   "execution_count": 183
  },
  {
   "metadata": {
    "ExecuteTime": {
     "end_time": "2025-01-08T10:35:14.583294Z",
     "start_time": "2025-01-08T10:35:14.452132Z"
    }
   },
   "cell_type": "code",
   "source": [
    "for node in G.nodes():\n",
    "    if node in filtered_md['microbe'].values or node in filtered_mmet['microbe'].values:\n",
    "        G.nodes[node]['type'] = 'microbe'\n",
    "    elif node in filtered_md['disease'].values or node in filtered_hmdb_metd['disease'].values:\n",
    "        G.nodes[node]['type'] = 'disease'\n",
    "    elif node in filtered_mmet['metabolite'].values or node in filtered_hmdb_metd['metabolite'].values:\n",
    "        G.nodes[node]['type'] = 'metabolite'"
   ],
   "id": "8ef7e7f1b07846e6",
   "outputs": [],
   "execution_count": 184
  },
  {
   "metadata": {
    "ExecuteTime": {
     "end_time": "2025-01-08T10:35:15.906750Z",
     "start_time": "2025-01-08T10:35:15.904570Z"
    }
   },
   "cell_type": "code",
   "source": [
    "print(f\"Total nodes: {G.number_of_nodes()}\")\n",
    "print(f\"Total edges: {G.number_of_edges()}\")"
   ],
   "id": "9ec6659014e0e82a",
   "outputs": [
    {
     "name": "stdout",
     "output_type": "stream",
     "text": [
      "Total nodes: 773\n",
      "Total edges: 16260\n"
     ]
    }
   ],
   "execution_count": 185
  },
  {
   "metadata": {
    "ExecuteTime": {
     "end_time": "2025-01-08T10:35:18.639147Z",
     "start_time": "2025-01-08T10:35:18.637008Z"
    }
   },
   "cell_type": "code",
   "source": "degree_centrality = nx.degree_centrality(G)",
   "id": "76560d44708896fa",
   "outputs": [],
   "execution_count": 186
  },
  {
   "metadata": {
    "ExecuteTime": {
     "end_time": "2025-01-08T10:35:19.475574Z",
     "start_time": "2025-01-08T10:35:19.473565Z"
    }
   },
   "cell_type": "code",
   "source": "density = nx.density(G)",
   "id": "fd86876751e98fb2",
   "outputs": [],
   "execution_count": 187
  },
  {
   "metadata": {
    "ExecuteTime": {
     "end_time": "2025-01-08T10:35:19.911527Z",
     "start_time": "2025-01-08T10:35:19.909162Z"
    }
   },
   "cell_type": "code",
   "source": "components = nx.number_connected_components(G)",
   "id": "2816e2b9609d807",
   "outputs": [],
   "execution_count": 188
  },
  {
   "metadata": {
    "ExecuteTime": {
     "end_time": "2025-01-08T10:35:20.949910Z",
     "start_time": "2025-01-08T10:35:20.948061Z"
    }
   },
   "cell_type": "code",
   "source": [
    "print(f\"Graph Density: {density*100:.2f}% of the possible connections between nodes\")\n",
    "print(f\"Number of distinct sub-networks within overall network: {components}\")\n",
    "print(f\"Degree Correlation where high-degree nodes are connected to peripheral nodes: {degree_correlation}\")"
   ],
   "id": "46479472031ed4e9",
   "outputs": [
    {
     "name": "stdout",
     "output_type": "stream",
     "text": [
      "Graph Density: 5.45% of the possible connections between nodes\n",
      "Number of distinct sub-networks within overall network: 1\n",
      "Degree Correlation where high-degree nodes are connected to peripheral nodes: -0.38043422383946\n"
     ]
    }
   ],
   "execution_count": 189
  },
  {
   "metadata": {
    "ExecuteTime": {
     "end_time": "2025-01-08T10:35:22.265071Z",
     "start_time": "2025-01-08T10:35:22.262742Z"
    }
   },
   "cell_type": "code",
   "source": "neighbor_counts = {node: len(list(G.neighbors(node))) for node in G.nodes()}",
   "id": "608585f944af0fcb",
   "outputs": [],
   "execution_count": 190
  },
  {
   "metadata": {
    "ExecuteTime": {
     "end_time": "2025-01-08T10:35:22.827873Z",
     "start_time": "2025-01-08T10:35:22.822964Z"
    }
   },
   "cell_type": "code",
   "source": [
    "counts = list(neighbor_counts.values())\n",
    "counts_array = np.array(counts)\n",
    "\n",
    "# Compute statistical summary\n",
    "summary = {\n",
    "    \"count\": len(counts_array),\n",
    "    \"mean\": np.mean(counts_array),\n",
    "    \"std\": np.std(counts_array),\n",
    "    \"min\": np.min(counts_array),\n",
    "    \"25%\": np.percentile(counts_array, 25),\n",
    "    \"50% (median)\": np.median(counts_array),\n",
    "    \"75%\": np.percentile(counts_array, 75),\n",
    "    \"max\": np.max(counts_array),\n",
    "}\n",
    "summary"
   ],
   "id": "e4f1bb508a13b0a0",
   "outputs": [
    {
     "data": {
      "text/plain": [
       "{'count': 773,\n",
       " 'mean': np.float64(42.06985769728331),\n",
       " 'std': np.float64(61.35830159184571),\n",
       " 'min': np.int64(1),\n",
       " '25%': np.float64(8.0),\n",
       " '50% (median)': np.float64(18.0),\n",
       " '75%': np.float64(53.0),\n",
       " 'max': np.int64(389)}"
      ]
     },
     "execution_count": 191,
     "metadata": {},
     "output_type": "execute_result"
    }
   ],
   "execution_count": 191
  },
  {
   "metadata": {
    "ExecuteTime": {
     "end_time": "2025-01-08T10:35:23.952003Z",
     "start_time": "2025-01-08T10:35:23.898809Z"
    }
   },
   "cell_type": "code",
   "source": [
    "# box plot of neighbor counts\n",
    "plt.boxplot(counts, vert=False)\n",
    "plt.xlabel(\"Number of Neighbors\")\n",
    "plt.title(\"Neighbor Count Distribution\")\n",
    "plt.show()"
   ],
   "id": "726c696fd41b0df0",
   "outputs": [
    {
     "data": {
      "text/plain": [
       "<Figure size 640x480 with 1 Axes>"
      ],
      "image/png": "[encoded data removed]"
     },
     "metadata": {},
     "output_type": "display_data"
    }
   ],
   "execution_count": 192
  },
  {
   "metadata": {
    "ExecuteTime": {
     "end_time": "2025-01-08T10:35:24.806679Z",
     "start_time": "2025-01-08T10:35:24.761983Z"
    }
   },
   "cell_type": "code",
   "source": [
    "# histogram of neighbor counts\n",
    "plt.hist(counts, bins=20, edgecolor=\"black\")\n",
    "plt.xlabel(\"Number of Neighbors\")\n",
    "plt.ylabel(\"Frequency\")\n",
    "plt.title(\"Distribution of Neighbor Counts\")\n",
    "plt.show()"
   ],
   "id": "bc1c7d02b9ca8977",
   "outputs": [
    {
     "data": {
      "text/plain": [
       "<Figure size 640x480 with 1 Axes>"
      ],
      "image/png": "[encoded data removed]"
     },
     "metadata": {},
     "output_type": "display_data"
    }
   ],
   "execution_count": 193
  },
  {
   "metadata": {
    "ExecuteTime": {
     "end_time": "2025-01-08T10:35:27.642316Z",
     "start_time": "2025-01-08T10:35:27.640247Z"
    }
   },
   "cell_type": "code",
   "source": [
    "filtered_counts = {k: v for k, v in neighbor_counts.items() if v > 10}\n",
    "print(f\"Number of nodes with more than 10 neighbors: {len(filtered_counts)}\")"
   ],
   "id": "f69330c965ed10a4",
   "outputs": [
    {
     "name": "stdout",
     "output_type": "stream",
     "text": [
      "Number of nodes with more than 10 neighbors: 556\n"
     ]
    }
   ],
   "execution_count": 194
  },
  {
   "metadata": {},
   "cell_type": "markdown",
   "source": [
    "### Summary of filtered MKG datasets with common nodes\n",
    "- The filtered MKG datasets consist of three relational datasets: Microbe-Disease (MD), Microbe-Metabolite (MMET), and Metabolite-Disease (HMDB_METD).\n",
    "- The MD dataset has 4,187 unique edges, the MMET dataset has 11,170 unique edges, and the HMDB_METD dataset has 903 unique edges. Total edges are 16,260.\n",
    "- Total node count is 773 with 272 unique microbes, 39 unique diseases, and 462 unique metabolites.\n",
    "- Common Microbes in filtered M-D: 90.11%; Common Microbes in filtered M-MET: 96.34%; Common Diseases in filtered M-D: 85.71%; Common Diseases in filtered HMDB_MET-D: 88.24%; Common Metabolites in filtered M-MET: 78.45%; Common Metabolites in filtered HMDB_MET-D: 86.86%.\n",
    "- The relational datasets from filtered MKG has 1 connected large component.\n",
    "- Average neighbor count is 42, median neighbor count is 18."
   ],
   "id": "1ddaf549c4c41b64"
  },
  {
   "metadata": {},
   "cell_type": "markdown",
   "source": "***",
   "id": "cc5c6692b2f33c1f"
  },
  {
   "metadata": {
    "ExecuteTime": {
     "end_time": "2025-01-08T08:56:30.736073Z",
     "start_time": "2025-01-08T08:56:30.728220Z"
    }
   },
   "cell_type": "code",
   "source": [
    "# assign indices to each unique node type and export data\n",
    "microbes = set(filtered_md['microbe']) | set(filtered_mmet['microbe'])\n",
    "diseases = set(filtered_md['disease']) | set(filtered_hmdb_metd['disease'])\n",
    "metabolites = set(filtered_mmet['metabolite']) | set(filtered_hmdb_metd['metabolite'])\n",
    "\n",
    "# create index mappings\n",
    "microbe_index = {microbe: idx for idx, microbe in enumerate(sorted(microbes))}\n",
    "disease_index = {disease: idx for idx, disease in enumerate(sorted(diseases))}\n",
    "metabolite_index = {metabolite: idx for idx, metabolite in enumerate(sorted(metabolites))}\n",
    "\n",
    "# replace nodes in filtered datasets with their indices\n",
    "filtered_md_indexed = filtered_md.copy()\n",
    "filtered_md_indexed['microbe'] = filtered_md_indexed['microbe'].map(microbe_index)\n",
    "filtered_md_indexed['disease'] = filtered_md_indexed['disease'].map(disease_index)\n",
    "\n",
    "filtered_mmet_indexed = filtered_mmet.copy()\n",
    "filtered_mmet_indexed['microbe'] = filtered_mmet_indexed['microbe'].map(microbe_index)\n",
    "filtered_mmet_indexed['metabolite'] = filtered_mmet_indexed['metabolite'].map(metabolite_index)\n",
    "\n",
    "filtered_hmdb_metd_indexed = filtered_hmdb_metd.copy()\n",
    "filtered_hmdb_metd_indexed['metabolite'] = filtered_hmdb_metd_indexed['metabolite'].map(metabolite_index)\n",
    "filtered_hmdb_metd_indexed['disease'] = filtered_hmdb_metd_indexed['disease'].map(disease_index)"
   ],
   "id": "3d8bf005e0dd791a",
   "outputs": [],
   "execution_count": 76
  },
  {
   "metadata": {
    "ExecuteTime": {
     "end_time": "2025-01-08T08:56:31.219467Z",
     "start_time": "2025-01-08T08:56:31.214889Z"
    }
   },
   "cell_type": "code",
   "source": [
    "print(f\"Unique edges in filtered_md_indexed: {len(filtered_md_indexed[['microbe', 'disease']].drop_duplicates())}\")\n",
    "print(f\"Unique edges in filtered_mmet_indexed: {len(filtered_mmet_indexed[['microbe', 'metabolite']].drop_duplicates())}\")\n",
    "print(f\"Unique edges in filtered_hmdb_metd_indexed: {len(filtered_hmdb_metd_indexed[['metabolite', 'disease']].drop_duplicates())}\")"
   ],
   "id": "b3f7741b293b15ca",
   "outputs": [
    {
     "name": "stdout",
     "output_type": "stream",
     "text": [
      "Unique edges in filtered_md_indexed: 4187\n",
      "Unique edges in filtered_mmet_indexed: 11170\n",
      "Unique edges in filtered_hmdb_metd_indexed: 903\n"
     ]
    }
   ],
   "execution_count": 77
  },
  {
   "metadata": {
    "ExecuteTime": {
     "end_time": "2025-01-08T08:56:32.192445Z",
     "start_time": "2025-01-08T08:56:32.179023Z"
    }
   },
   "cell_type": "code",
   "source": [
    "# save indexed datasets for common nodes\n",
    "filtered_md_indexed.to_csv(\"MKG/common_microbe_disease_idx.dat\", sep=\"\\t\", index=False, header=False)\n",
    "filtered_mmet_indexed.to_csv(\"MKG/common_microbe_metabolite_idx.dat\", sep=\"\\t\", index=False, header=False)\n",
    "filtered_hmdb_metd_indexed.to_csv(\"MKG/common_metabolite_disease_idx.dat\", sep=\"\\t\", index=False, header=False)\n",
    "\n",
    "# export unique nodes with their indices\n",
    "pd.DataFrame(microbe_index.items(), columns=[\"microbe\", \"index\"]).to_csv(\"MKG/unique_microbes_idx.dat\", sep=\"\\t\", index=False, header=False)\n",
    "pd.DataFrame(disease_index.items(), columns=[\"disease\", \"index\"]).to_csv(\"MKG/unique_diseases_idx.dat\", sep=\"\\t\", index=False, header=False)\n",
    "pd.DataFrame(metabolite_index.items(), columns=[\"metabolite\", \"index\"]).to_csv(\"MKG/unique_metabolites_idx.dat\", sep=\"\\t\", index=False, header=False)"
   ],
   "id": "233303837ff1ff9f",
   "outputs": [],
   "execution_count": 78
  },
  {
   "metadata": {
    "ExecuteTime": {
     "end_time": "2025-01-08T08:56:32.742587Z",
     "start_time": "2025-01-08T08:56:32.712911Z"
    }
   },
   "cell_type": "code",
   "source": [
    "# create files for cosmograph visualization\n",
    "# node file\n",
    "nodes = []\n",
    "\n",
    "# add microbes with a color\n",
    "for microbe in sorted(set(filtered_md['microbe']) | set(filtered_mmet['microbe'])):\n",
    "    nodes.append([microbe, \"microbe\", \"blue\"])\n",
    "\n",
    "# add diseases with a color\n",
    "for disease in sorted(set(filtered_md['disease']) | set(filtered_hmdb_metd['disease'])):\n",
    "    nodes.append([disease, \"disease\", \"red\"])\n",
    "\n",
    "# add metabolites with a color\n",
    "for metabolite in sorted(set(filtered_mmet['metabolite']) | set(filtered_hmdb_metd['metabolite'])):\n",
    "    nodes.append([metabolite, \"metabolite\", \"green\"])\n",
    "\n",
    "nodes_df = pd.DataFrame(nodes, columns=[\"id\", \"type\", \"node_color\"])\n",
    "print(len(nodes_df.drop_duplicates()))\n",
    "nodes_df.to_csv(\"MKG_cosmograph_nodes_with_colors.csv\", index=False)\n",
    "\n",
    "# edge file\n",
    "edges = []\n",
    "\n",
    "# add microbe-disease edges\n",
    "edges.extend(filtered_md[[\"microbe\", \"disease\", \"weight\"]].values.tolist())\n",
    "\n",
    "# add microbe-metabolite edges\n",
    "edges.extend(filtered_mmet[[\"microbe\", \"metabolite\", \"weight\"]].values.tolist())\n",
    "\n",
    "# add metabolite-disease edges\n",
    "edges.extend(filtered_hmdb_metd[[\"metabolite\", \"disease\", \"weight\"]].values.tolist())\n",
    "\n",
    "edges_df = pd.DataFrame(edges, columns=[\"Source\", \"Target\", \"Weight\"])\n",
    "print(len(edges_df.drop_duplicates()))\n",
    "edges_df.to_csv(\"MKG_cosmograph_edges_with_labels.csv\", index=False)"
   ],
   "id": "c4b6bf0d8c5b5c87",
   "outputs": [
    {
     "name": "stdout",
     "output_type": "stream",
     "text": [
      "773\n",
      "16260\n"
     ]
    }
   ],
   "execution_count": 79
  },
  {
   "metadata": {
    "ExecuteTime": {
     "end_time": "2025-01-08T08:56:32.792290Z",
     "start_time": "2025-01-08T08:56:32.781441Z"
    }
   },
   "cell_type": "code",
   "source": [
    "# create files for cosmograph visualization (remove metabolites)\n",
    "# node file\n",
    "nodes = []\n",
    "\n",
    "# add microbes with a color\n",
    "for microbe in sorted(set(filtered_md['microbe']) | set(filtered_mmet['microbe'])):\n",
    "    nodes.append([microbe, \"microbe\", \"blue\"])\n",
    "\n",
    "# add diseases with a color\n",
    "for disease in sorted(set(filtered_md['disease']) | set(filtered_hmdb_metd['disease'])):\n",
    "    nodes.append([disease, \"disease\", \"red\"])\n",
    "\n",
    "\n",
    "nodes_df = pd.DataFrame(nodes, columns=[\"id\", \"type\", \"node_color\"])\n",
    "print(len(nodes_df.drop_duplicates()))\n",
    "nodes_df.to_csv(\"MKG_cosmograph_nodes_with_colors_no_met.csv\", index=False)\n",
    "\n",
    "# edge file\n",
    "edges = []\n",
    "\n",
    "# add microbe-disease edges\n",
    "edges.extend(filtered_md[[\"microbe\", \"disease\", \"weight\"]].values.tolist())\n",
    "\n",
    "edges_df = pd.DataFrame(edges, columns=[\"Source\", \"Target\", \"Weight\"])\n",
    "print(len(edges_df.drop_duplicates()))\n",
    "edges_df.to_csv(\"MKG_cosmograph_edges_with_labels_no_met.csv\", index=False)"
   ],
   "id": "56ad3dc9a47c656",
   "outputs": [
    {
     "name": "stdout",
     "output_type": "stream",
     "text": [
      "311\n",
      "4187\n"
     ]
    }
   ],
   "execution_count": 80
  },
  {
   "metadata": {
    "ExecuteTime": {
     "end_time": "2025-01-08T08:56:33.278849Z",
     "start_time": "2025-01-08T08:56:33.270284Z"
    }
   },
   "cell_type": "code",
   "source": [
    "# create files for cosmograph visualization (remove microbes)\n",
    "# node file\n",
    "nodes = []\n",
    "\n",
    "# add diseases with a color\n",
    "for disease in sorted(set(filtered_md['disease']) | set(filtered_hmdb_metd['disease'])):\n",
    "    nodes.append([disease, \"disease\", \"red\"])\n",
    "\n",
    "# add metabolites with a color\n",
    "for metabolite in sorted(set(filtered_mmet['metabolite']) | set(filtered_hmdb_metd['metabolite'])):\n",
    "    nodes.append([metabolite, \"metabolite\", \"green\"])\n",
    "\n",
    "nodes_df = pd.DataFrame(nodes, columns=[\"id\", \"type\", \"node_color\"])\n",
    "print(len(nodes_df.drop_duplicates()))\n",
    "nodes_df.to_csv(\"MKG_cosmograph_nodes_with_colors_no_micro.csv\", index=False)\n",
    "\n",
    "# edge file\n",
    "edges = []\n",
    "\n",
    "# add metabolite-disease edges\n",
    "edges.extend(filtered_hmdb_metd[[\"metabolite\", \"disease\", \"weight\"]].values.tolist())\n",
    "\n",
    "edges_df = pd.DataFrame(edges, columns=[\"Source\", \"Target\", \"Weight\"])\n",
    "print(len(edges_df.drop_duplicates()))\n",
    "edges_df.to_csv(\"MKG_cosmograph_edges_with_labels_no_micro.csv\", index=False)"
   ],
   "id": "793c6524e3cd04e3",
   "outputs": [
    {
     "name": "stdout",
     "output_type": "stream",
     "text": [
      "501\n",
      "903\n"
     ]
    }
   ],
   "execution_count": 81
  },
  {
   "metadata": {
    "ExecuteTime": {
     "end_time": "2025-01-08T23:03:38.890742Z",
     "start_time": "2025-01-08T23:03:38.809503Z"
    }
   },
   "cell_type": "code",
   "source": [
    "# create files for cosmograph visualization (remove diseases)\n",
    "# node file\n",
    "nodes = []\n",
    "\n",
    "# add microbes with a color\n",
    "for microbe in sorted(set(filtered_md['microbe']) | set(filtered_mmet['microbe'])):\n",
    "    nodes.append([microbe, \"microbe\", \"blue\"])\n",
    "for metabolite in sorted(set(filtered_mmet['metabolite']) | set(filtered_hmdb_metd['metabolite'])):\n",
    "    nodes.append([metabolite, \"metabolite\", \"green\"])\n",
    "\n",
    "nodes_df = pd.DataFrame(nodes, columns=[\"id\", \"type\", \"node_color\"])\n",
    "nodes_df.to_csv(\"MKG_cosmograph_nodes_with_colors_no_dis.csv\", index=False)\n",
    "\n",
    "# edge file\n",
    "edges = []\n",
    "\n",
    "# add microbe-metabolite edges\n",
    "edges.extend(filtered_mmet[[\"microbe\", \"metabolite\", \"weight\"]].values.tolist())\n",
    "\n",
    "edges_df = pd.DataFrame(edges, columns=[\"Source\", \"Target\", \"Weight\"])\n",
    "edges_df.to_csv(\"MKG_cosmograph_edges_with_labels_no_dis.csv\", index=False)"
   ],
   "id": "100ebbf6d500c984",
   "outputs": [],
   "execution_count": 210
  },
  {
   "metadata": {},
   "cell_type": "code",
   "outputs": [],
   "execution_count": null,
   "source": "",
   "id": "e5fee97a4730d60c"
  }
 ],
 "metadata": {
  "kernelspec": {
   "display_name": "Python 3",
   "language": "python",
   "name": "python3"
  },
  "language_info": {
   "codemirror_mode": {
    "name": "ipython",
    "version": 2
   },
   "file_extension": ".py",
   "mimetype": "text/x-python",
   "name": "python",
   "nbconvert_exporter": "python",
   "pygments_lexer": "ipython2",
   "version": "2.7.6"
  }
 },
 "nbformat": 4,
 "nbformat_minor": 5
}
